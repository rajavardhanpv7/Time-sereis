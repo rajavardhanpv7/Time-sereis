{
 "cells": [
  {
   "cell_type": "code",
   "execution_count": 1,
   "id": "14860c02",
   "metadata": {},
   "outputs": [],
   "source": [
    "import sys\n",
    "if not sys.warnoptions:\n",
    "    import warnings\n",
    "    warnings.simplefilter(\"ignore\")\n"
   ]
  },
  {
   "cell_type": "code",
   "execution_count": 2,
   "id": "5959702c",
   "metadata": {},
   "outputs": [
    {
     "data": {
      "text/plain": [
       "Period\n",
       "1949-01    112.0\n",
       "1949-02    118.0\n",
       "1949-03    132.0\n",
       "1949-04    129.0\n",
       "1949-05    121.0\n",
       "           ...  \n",
       "1960-08    606.0\n",
       "1960-09    508.0\n",
       "1960-10    461.0\n",
       "1960-11    390.0\n",
       "1960-12    432.0\n",
       "Freq: M, Name: Number of airline passengers, Length: 144, dtype: float64"
      ]
     },
     "execution_count": 2,
     "metadata": {},
     "output_type": "execute_result"
    }
   ],
   "source": [
    "import numpy as np\n",
    "from sktime.datasets import load_airline\n",
    "airline=load_airline()\n",
    "airline\n"
   ]
  },
  {
   "cell_type": "markdown",
   "id": "940d20e6",
   "metadata": {},
   "source": [
    "### Reduction Approach(y)"
   ]
  },
  {
   "cell_type": "code",
   "execution_count": 3,
   "id": "219002ed",
   "metadata": {},
   "outputs": [],
   "source": [
    "features=[]\n",
    "target=[]\n",
    "\n",
    "for i in range(len(airline)-10):\n",
    "    features.append(airline[i:i+10])\n",
    "    target.append(airline[i+10])"
   ]
  },
  {
   "cell_type": "code",
   "execution_count": 4,
   "id": "afb65a31",
   "metadata": {},
   "outputs": [],
   "source": [
    "features=np.array(features)\n",
    "target=np.array(target)"
   ]
  },
  {
   "cell_type": "code",
   "execution_count": 5,
   "id": "dce8a3c2",
   "metadata": {},
   "outputs": [
    {
     "data": {
      "text/plain": [
       "(134, 10)"
      ]
     },
     "execution_count": 5,
     "metadata": {},
     "output_type": "execute_result"
    }
   ],
   "source": [
    "features.shape\n"
   ]
  },
  {
   "cell_type": "code",
   "execution_count": 6,
   "id": "c240be18",
   "metadata": {},
   "outputs": [
    {
     "data": {
      "text/plain": [
       "array([[112., 118., 132., ..., 148., 136., 119.],\n",
       "       [118., 132., 129., ..., 136., 119., 104.],\n",
       "       [132., 129., 121., ..., 119., 104., 118.],\n",
       "       ...,\n",
       "       [405., 417., 391., ..., 622., 606., 508.],\n",
       "       [417., 391., 419., ..., 606., 508., 461.],\n",
       "       [391., 419., 461., ..., 508., 461., 390.]])"
      ]
     },
     "execution_count": 6,
     "metadata": {},
     "output_type": "execute_result"
    }
   ],
   "source": [
    "features\n"
   ]
  },
  {
   "cell_type": "code",
   "execution_count": 7,
   "id": "408bf076",
   "metadata": {},
   "outputs": [
    {
     "data": {
      "text/plain": [
       "(134,)"
      ]
     },
     "execution_count": 7,
     "metadata": {},
     "output_type": "execute_result"
    }
   ],
   "source": [
    "target.shape"
   ]
  },
  {
   "cell_type": "code",
   "execution_count": 8,
   "id": "c297ce2b",
   "metadata": {},
   "outputs": [
    {
     "data": {
      "text/plain": [
       "array([104., 118., 115., 126., 141., 135., 125., 149., 170., 170., 158.,\n",
       "       133., 114., 140., 145., 150., 178., 163., 172., 178., 199., 199.,\n",
       "       184., 162., 146., 166., 171., 180., 193., 181., 183., 218., 230.,\n",
       "       242., 209., 191., 172., 194., 196., 196., 236., 235., 229., 243.,\n",
       "       264., 272., 237., 211., 180., 201., 204., 188., 235., 227., 234.,\n",
       "       264., 302., 293., 259., 229., 203., 229., 242., 233., 267., 269.,\n",
       "       270., 315., 364., 347., 312., 274., 237., 278., 284., 277., 317.,\n",
       "       313., 318., 374., 413., 405., 355., 306., 271., 306., 315., 301.,\n",
       "       356., 348., 355., 422., 465., 467., 404., 347., 305., 336., 340.,\n",
       "       318., 362., 348., 363., 435., 491., 505., 404., 359., 310., 337.,\n",
       "       360., 342., 406., 396., 420., 472., 548., 559., 463., 407., 362.,\n",
       "       405., 417., 391., 419., 461., 472., 535., 622., 606., 508., 461.,\n",
       "       390., 432.])"
      ]
     },
     "execution_count": 8,
     "metadata": {},
     "output_type": "execute_result"
    }
   ],
   "source": [
    "target"
   ]
  },
  {
   "cell_type": "code",
   "execution_count": 9,
   "id": "86d98132",
   "metadata": {},
   "outputs": [
    {
     "data": {
      "text/plain": [
       "(144,)"
      ]
     },
     "execution_count": 9,
     "metadata": {},
     "output_type": "execute_result"
    }
   ],
   "source": [
    "airline.shape"
   ]
  },
  {
   "cell_type": "code",
   "execution_count": 10,
   "id": "3263e5a0",
   "metadata": {},
   "outputs": [],
   "source": [
    "train_len=int(len(target)*0.80)"
   ]
  },
  {
   "cell_type": "code",
   "execution_count": 11,
   "id": "652ed8d3",
   "metadata": {},
   "outputs": [
    {
     "data": {
      "text/plain": [
       "107"
      ]
     },
     "execution_count": 11,
     "metadata": {},
     "output_type": "execute_result"
    }
   ],
   "source": [
    "train_len"
   ]
  },
  {
   "cell_type": "code",
   "execution_count": 12,
   "id": "0066a351",
   "metadata": {},
   "outputs": [],
   "source": [
    "train_features=features[:train_len]\n",
    "train_target=target[:train_len]\n",
    "test_features=features[train_len:]\n",
    "test_target=target[train_len:]"
   ]
  },
  {
   "cell_type": "code",
   "execution_count": 13,
   "id": "8337a51c",
   "metadata": {},
   "outputs": [
    {
     "data": {
      "text/plain": [
       "DecisionTreeRegressor()"
      ]
     },
     "execution_count": 13,
     "metadata": {},
     "output_type": "execute_result"
    }
   ],
   "source": [
    "from sklearn.tree import DecisionTreeRegressor\n",
    "reg=DecisionTreeRegressor()\n",
    "reg.fit(train_features, train_target)\n"
   ]
  },
  {
   "cell_type": "code",
   "execution_count": 14,
   "id": "00d6b6e1",
   "metadata": {},
   "outputs": [
    {
     "data": {
      "text/plain": [
       "array([465., 422., 422., 422., 340., 348., 435., 465., 465., 491., 491.,\n",
       "       467., 491., 465., 422., 465., 465., 465., 465., 491., 491., 491.,\n",
       "       491., 491., 491., 491., 465.])"
      ]
     },
     "execution_count": 14,
     "metadata": {},
     "output_type": "execute_result"
    }
   ],
   "source": [
    "\n",
    "reg.predict(test_features)\n"
   ]
  },
  {
   "cell_type": "markdown",
   "id": "66798e05",
   "metadata": {},
   "source": [
    "### Using Sktime Library"
   ]
  },
  {
   "cell_type": "code",
   "execution_count": 15,
   "id": "73ebd72f",
   "metadata": {},
   "outputs": [],
   "source": [
    "from sktime.forecasting.model_selection import temporal_train_test_split"
   ]
  },
  {
   "cell_type": "code",
   "execution_count": 16,
   "id": "8c175b71",
   "metadata": {},
   "outputs": [],
   "source": [
    "from sktime.forecasting.compose import ReducedRegressionForecaster"
   ]
  },
  {
   "cell_type": "code",
   "execution_count": 17,
   "id": "4eecafab",
   "metadata": {},
   "outputs": [],
   "source": [
    "regressor=DecisionTreeRegressor()\n",
    "reduced_reg=ReducedRegressionForecaster(regressor=regressor,window_length=10)"
   ]
  },
  {
   "cell_type": "code",
   "execution_count": 18,
   "id": "5fa75e03",
   "metadata": {},
   "outputs": [],
   "source": [
    "y_train,y_test=temporal_train_test_split(airline,test_size=36)"
   ]
  },
  {
   "cell_type": "code",
   "execution_count": 19,
   "id": "71ad1491",
   "metadata": {},
   "outputs": [
    {
     "data": {
      "text/plain": [
       "RecursiveRegressionForecaster(regressor=DecisionTreeRegressor())"
      ]
     },
     "execution_count": 19,
     "metadata": {},
     "output_type": "execute_result"
    }
   ],
   "source": [
    "reduced_reg.fit(y_train)"
   ]
  },
  {
   "cell_type": "code",
   "execution_count": 20,
   "id": "c6397a9f",
   "metadata": {},
   "outputs": [],
   "source": [
    "y_pred=reduced_reg.predict(np.arange(1,37))"
   ]
  },
  {
   "cell_type": "code",
   "execution_count": 21,
   "id": "f2d4033a",
   "metadata": {},
   "outputs": [
    {
     "data": {
      "text/plain": [
       "1958-01    306.0\n",
       "1958-02    318.0\n",
       "1958-03    306.0\n",
       "1958-04    318.0\n",
       "1958-05    306.0\n",
       "1958-06    318.0\n",
       "1958-07    306.0\n",
       "1958-08    271.0\n",
       "1958-09    306.0\n",
       "1958-10    277.0\n",
       "1958-11    301.0\n",
       "1958-12    277.0\n",
       "1959-01    301.0\n",
       "1959-02    277.0\n",
       "1959-03    301.0\n",
       "1959-04    277.0\n",
       "1959-05    277.0\n",
       "1959-06    277.0\n",
       "1959-07    277.0\n",
       "1959-08    277.0\n",
       "1959-09    277.0\n",
       "1959-10    277.0\n",
       "1959-11    277.0\n",
       "1959-12    277.0\n",
       "1960-01    277.0\n",
       "1960-02    277.0\n",
       "1960-03    277.0\n",
       "1960-04    277.0\n",
       "1960-05    277.0\n",
       "1960-06    277.0\n",
       "1960-07    277.0\n",
       "1960-08    277.0\n",
       "1960-09    277.0\n",
       "1960-10    277.0\n",
       "1960-11    277.0\n",
       "1960-12    277.0\n",
       "Freq: M, dtype: float64"
      ]
     },
     "execution_count": 21,
     "metadata": {},
     "output_type": "execute_result"
    }
   ],
   "source": [
    "y_pred"
   ]
  },
  {
   "cell_type": "code",
   "execution_count": 22,
   "id": "5afb1270",
   "metadata": {},
   "outputs": [],
   "source": [
    "from sktime.utils.plotting import plot_series\n"
   ]
  },
  {
   "cell_type": "code",
   "execution_count": 23,
   "id": "4ed60016",
   "metadata": {},
   "outputs": [
    {
     "data": {
      "text/plain": [
       "(<Figure size 1152x288 with 1 Axes>,\n",
       " <AxesSubplot:ylabel='Number of airline passengers'>)"
      ]
     },
     "execution_count": 23,
     "metadata": {},
     "output_type": "execute_result"
    },
    {
     "data": {
      "image/png": "[encoded data removed]",
      "text/plain": [
       "<Figure size 1152x288 with 1 Axes>"
      ]
     },
     "metadata": {
      "needs_background": "light"
     },
     "output_type": "display_data"
    }
   ],
   "source": [
    "plot_series(y_train,y_test,y_pred, labels=['train','test','prediction'])"
   ]
  },
  {
   "cell_type": "code",
   "execution_count": null,
   "id": "9b7d539a",
   "metadata": {},
   "outputs": [],
   "source": []
  }
 ],
 "metadata": {
  "kernelspec": {
   "display_name": "Python 3",
   "language": "python",
   "name": "python3"
  },
  "language_info": {
   "codemirror_mode": {
    "name": "ipython",
    "version": 3
   },
   "file_extension": ".py",
   "mimetype": "text/x-python",
   "name": "python",
   "nbconvert_exporter": "python",
   "pygments_lexer": "ipython3",
   "version": "3.8.8"
  }
 },
 "nbformat": 4,
 "nbformat_minor": 5
}
