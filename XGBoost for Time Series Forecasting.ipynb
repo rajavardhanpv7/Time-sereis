{
 "cells": [
  {
   "cell_type": "code",
   "execution_count": 1,
   "id": "ea918c25",
   "metadata": {},
   "outputs": [],
   "source": [
    "import pandas as pd\n",
    "import numpy as np\n",
    "import os\n",
    "import matplotlib.pyplot as plt\n",
    "import time\n",
    "plt.style.use(style='seaborn')\n",
    "%matplotlib inline"
   ]
  },
  {
   "cell_type": "code",
   "execution_count": 2,
   "id": "05276e39",
   "metadata": {},
   "outputs": [],
   "source": [
    "df=pd.read_csv(r'C:\\Users\\Rajavardhan\\Downloads\\HistoricalData.csv')"
   ]
  },
  {
   "cell_type": "code",
   "execution_count": 3,
   "id": "bfd8aeb1",
   "metadata": {},
   "outputs": [
    {
     "data": {
      "text/html": [
       "<div>\n",
       "<style scoped>\n",
       "    .dataframe tbody tr th:only-of-type {\n",
       "        vertical-align: middle;\n",
       "    }\n",
       "\n",
       "    .dataframe tbody tr th {\n",
       "        vertical-align: top;\n",
       "    }\n",
       "\n",
       "    .dataframe thead th {\n",
       "        text-align: right;\n",
       "    }\n",
       "</style>\n",
       "<table border=\"1\" class=\"dataframe\">\n",
       "  <thead>\n",
       "    <tr style=\"text-align: right;\">\n",
       "      <th></th>\n",
       "      <th>Date</th>\n",
       "      <th>Close/Last</th>\n",
       "      <th>Volume</th>\n",
       "      <th>Open</th>\n",
       "      <th>High</th>\n",
       "      <th>Low</th>\n",
       "    </tr>\n",
       "  </thead>\n",
       "  <tbody>\n",
       "    <tr>\n",
       "      <th>0</th>\n",
       "      <td>07/09/2021</td>\n",
       "      <td>$277.94</td>\n",
       "      <td>23916670</td>\n",
       "      <td>$275.72</td>\n",
       "      <td>$278.05</td>\n",
       "      <td>$275.32</td>\n",
       "    </tr>\n",
       "    <tr>\n",
       "      <th>1</th>\n",
       "      <td>07/08/2021</td>\n",
       "      <td>$277.42</td>\n",
       "      <td>24618590</td>\n",
       "      <td>$276.9</td>\n",
       "      <td>$278.73</td>\n",
       "      <td>$274.87</td>\n",
       "    </tr>\n",
       "    <tr>\n",
       "      <th>2</th>\n",
       "      <td>07/07/2021</td>\n",
       "      <td>$279.93</td>\n",
       "      <td>23260030</td>\n",
       "      <td>$279.4</td>\n",
       "      <td>$280.6945</td>\n",
       "      <td>$277.15</td>\n",
       "    </tr>\n",
       "    <tr>\n",
       "      <th>3</th>\n",
       "      <td>07/06/2021</td>\n",
       "      <td>$277.66</td>\n",
       "      <td>31565560</td>\n",
       "      <td>$278.03</td>\n",
       "      <td>$279.3698</td>\n",
       "      <td>$274.3</td>\n",
       "    </tr>\n",
       "    <tr>\n",
       "      <th>4</th>\n",
       "      <td>07/02/2021</td>\n",
       "      <td>$277.65</td>\n",
       "      <td>26474410</td>\n",
       "      <td>$272.82</td>\n",
       "      <td>$278</td>\n",
       "      <td>$272.5</td>\n",
       "    </tr>\n",
       "  </tbody>\n",
       "</table>\n",
       "</div>"
      ],
      "text/plain": [
       "         Date Close/Last    Volume     Open       High      Low\n",
       "0  07/09/2021    $277.94  23916670  $275.72    $278.05  $275.32\n",
       "1  07/08/2021    $277.42  24618590   $276.9    $278.73  $274.87\n",
       "2  07/07/2021    $279.93  23260030   $279.4  $280.6945  $277.15\n",
       "3  07/06/2021    $277.66  31565560  $278.03  $279.3698   $274.3\n",
       "4  07/02/2021    $277.65  26474410  $272.82       $278   $272.5"
      ]
     },
     "execution_count": 3,
     "metadata": {},
     "output_type": "execute_result"
    }
   ],
   "source": [
    "df.head()"
   ]
  },
  {
   "cell_type": "code",
   "execution_count": 4,
   "id": "a7695a0e",
   "metadata": {},
   "outputs": [],
   "source": [
    "# Converting the date into datetime foramt\n",
    "df[\"Date\"]= pd.to_datetime(df[\"Date\"])\n"
   ]
  },
  {
   "cell_type": "code",
   "execution_count": 5,
   "id": "15d68886",
   "metadata": {
    "scrolled": true
   },
   "outputs": [
    {
     "data": {
      "text/html": [
       "<div>\n",
       "<style scoped>\n",
       "    .dataframe tbody tr th:only-of-type {\n",
       "        vertical-align: middle;\n",
       "    }\n",
       "\n",
       "    .dataframe tbody tr th {\n",
       "        vertical-align: top;\n",
       "    }\n",
       "\n",
       "    .dataframe thead th {\n",
       "        text-align: right;\n",
       "    }\n",
       "</style>\n",
       "<table border=\"1\" class=\"dataframe\">\n",
       "  <thead>\n",
       "    <tr style=\"text-align: right;\">\n",
       "      <th></th>\n",
       "      <th>Date</th>\n",
       "      <th>Close/Last</th>\n",
       "      <th>Volume</th>\n",
       "      <th>Open</th>\n",
       "      <th>High</th>\n",
       "      <th>Low</th>\n",
       "    </tr>\n",
       "  </thead>\n",
       "  <tbody>\n",
       "    <tr>\n",
       "      <th>0</th>\n",
       "      <td>2021-07-09</td>\n",
       "      <td>$277.94</td>\n",
       "      <td>23916670</td>\n",
       "      <td>$275.72</td>\n",
       "      <td>$278.05</td>\n",
       "      <td>$275.32</td>\n",
       "    </tr>\n",
       "    <tr>\n",
       "      <th>1</th>\n",
       "      <td>2021-07-08</td>\n",
       "      <td>$277.42</td>\n",
       "      <td>24618590</td>\n",
       "      <td>$276.9</td>\n",
       "      <td>$278.73</td>\n",
       "      <td>$274.87</td>\n",
       "    </tr>\n",
       "    <tr>\n",
       "      <th>2</th>\n",
       "      <td>2021-07-07</td>\n",
       "      <td>$279.93</td>\n",
       "      <td>23260030</td>\n",
       "      <td>$279.4</td>\n",
       "      <td>$280.6945</td>\n",
       "      <td>$277.15</td>\n",
       "    </tr>\n",
       "    <tr>\n",
       "      <th>3</th>\n",
       "      <td>2021-07-06</td>\n",
       "      <td>$277.66</td>\n",
       "      <td>31565560</td>\n",
       "      <td>$278.03</td>\n",
       "      <td>$279.3698</td>\n",
       "      <td>$274.3</td>\n",
       "    </tr>\n",
       "    <tr>\n",
       "      <th>4</th>\n",
       "      <td>2021-07-02</td>\n",
       "      <td>$277.65</td>\n",
       "      <td>26474410</td>\n",
       "      <td>$272.82</td>\n",
       "      <td>$278</td>\n",
       "      <td>$272.5</td>\n",
       "    </tr>\n",
       "  </tbody>\n",
       "</table>\n",
       "</div>"
      ],
      "text/plain": [
       "        Date Close/Last    Volume     Open       High      Low\n",
       "0 2021-07-09    $277.94  23916670  $275.72    $278.05  $275.32\n",
       "1 2021-07-08    $277.42  24618590   $276.9    $278.73  $274.87\n",
       "2 2021-07-07    $279.93  23260030   $279.4  $280.6945  $277.15\n",
       "3 2021-07-06    $277.66  31565560  $278.03  $279.3698   $274.3\n",
       "4 2021-07-02    $277.65  26474410  $272.82       $278   $272.5"
      ]
     },
     "execution_count": 5,
     "metadata": {},
     "output_type": "execute_result"
    }
   ],
   "source": [
    "df.head()"
   ]
  },
  {
   "cell_type": "code",
   "execution_count": 6,
   "id": "32ec0871",
   "metadata": {},
   "outputs": [],
   "source": [
    "# Renaming the Column\n",
    "df.rename(columns = {\"Close/Last\": \"Close\"}, \n",
    "          inplace = True)\n"
   ]
  },
  {
   "cell_type": "code",
   "execution_count": 7,
   "id": "dc4764e4",
   "metadata": {},
   "outputs": [
    {
     "name": "stderr",
     "output_type": "stream",
     "text": [
      "<ipython-input-7-7b6196c18eda>:2: FutureWarning: The default value of regex will change from True to False in a future version. In addition, single character regular expressions will*not* be treated as literal strings when regex=True.\n",
      "  df['Close'] = df['Close'].str.replace('$', '')\n"
     ]
    }
   ],
   "source": [
    "# Removing curency sign from the data \n",
    "df['Close'] = df['Close'].str.replace('$', '')\n"
   ]
  },
  {
   "cell_type": "code",
   "execution_count": 8,
   "id": "fca2b321",
   "metadata": {},
   "outputs": [],
   "source": [
    "df=df[['Close']].copy()"
   ]
  },
  {
   "cell_type": "code",
   "execution_count": 9,
   "id": "d38c8b09",
   "metadata": {},
   "outputs": [
    {
     "data": {
      "text/html": [
       "<div>\n",
       "<style scoped>\n",
       "    .dataframe tbody tr th:only-of-type {\n",
       "        vertical-align: middle;\n",
       "    }\n",
       "\n",
       "    .dataframe tbody tr th {\n",
       "        vertical-align: top;\n",
       "    }\n",
       "\n",
       "    .dataframe thead th {\n",
       "        text-align: right;\n",
       "    }\n",
       "</style>\n",
       "<table border=\"1\" class=\"dataframe\">\n",
       "  <thead>\n",
       "    <tr style=\"text-align: right;\">\n",
       "      <th></th>\n",
       "      <th>Close</th>\n",
       "    </tr>\n",
       "  </thead>\n",
       "  <tbody>\n",
       "    <tr>\n",
       "      <th>0</th>\n",
       "      <td>277.94</td>\n",
       "    </tr>\n",
       "    <tr>\n",
       "      <th>1</th>\n",
       "      <td>277.42</td>\n",
       "    </tr>\n",
       "    <tr>\n",
       "      <th>2</th>\n",
       "      <td>279.93</td>\n",
       "    </tr>\n",
       "    <tr>\n",
       "      <th>3</th>\n",
       "      <td>277.66</td>\n",
       "    </tr>\n",
       "    <tr>\n",
       "      <th>4</th>\n",
       "      <td>277.65</td>\n",
       "    </tr>\n",
       "  </tbody>\n",
       "</table>\n",
       "</div>"
      ],
      "text/plain": [
       "    Close\n",
       "0  277.94\n",
       "1  277.42\n",
       "2  279.93\n",
       "3  277.66\n",
       "4  277.65"
      ]
     },
     "execution_count": 9,
     "metadata": {},
     "output_type": "execute_result"
    }
   ],
   "source": [
    "df.head()"
   ]
  },
  {
   "cell_type": "markdown",
   "id": "a6eaff61",
   "metadata": {},
   "source": [
    "### Transforming this to a supervised learning problem"
   ]
  },
  {
   "cell_type": "code",
   "execution_count": 10,
   "id": "4b6984b8",
   "metadata": {},
   "outputs": [
    {
     "data": {
      "text/html": [
       "<div>\n",
       "<style scoped>\n",
       "    .dataframe tbody tr th:only-of-type {\n",
       "        vertical-align: middle;\n",
       "    }\n",
       "\n",
       "    .dataframe tbody tr th {\n",
       "        vertical-align: top;\n",
       "    }\n",
       "\n",
       "    .dataframe thead th {\n",
       "        text-align: right;\n",
       "    }\n",
       "</style>\n",
       "<table border=\"1\" class=\"dataframe\">\n",
       "  <thead>\n",
       "    <tr style=\"text-align: right;\">\n",
       "      <th></th>\n",
       "      <th>Close</th>\n",
       "      <th>target</th>\n",
       "    </tr>\n",
       "  </thead>\n",
       "  <tbody>\n",
       "    <tr>\n",
       "      <th>0</th>\n",
       "      <td>277.94</td>\n",
       "      <td>277.42</td>\n",
       "    </tr>\n",
       "    <tr>\n",
       "      <th>1</th>\n",
       "      <td>277.42</td>\n",
       "      <td>279.93</td>\n",
       "    </tr>\n",
       "    <tr>\n",
       "      <th>2</th>\n",
       "      <td>279.93</td>\n",
       "      <td>277.66</td>\n",
       "    </tr>\n",
       "    <tr>\n",
       "      <th>3</th>\n",
       "      <td>277.66</td>\n",
       "      <td>277.65</td>\n",
       "    </tr>\n",
       "    <tr>\n",
       "      <th>4</th>\n",
       "      <td>277.65</td>\n",
       "      <td>271.6</td>\n",
       "    </tr>\n",
       "  </tbody>\n",
       "</table>\n",
       "</div>"
      ],
      "text/plain": [
       "    Close  target\n",
       "0  277.94  277.42\n",
       "1  277.42  279.93\n",
       "2  279.93  277.66\n",
       "3  277.66  277.65\n",
       "4  277.65   271.6"
      ]
     },
     "execution_count": 10,
     "metadata": {},
     "output_type": "execute_result"
    }
   ],
   "source": [
    "df['target']=df.Close.shift(-1)\n",
    "df.dropna(inplace=True)\n",
    "df.head()"
   ]
  },
  {
   "cell_type": "markdown",
   "id": "1a6bee5c",
   "metadata": {},
   "source": [
    "### Train, Test split"
   ]
  },
  {
   "cell_type": "code",
   "execution_count": 1,
   "id": "ca49002e",
   "metadata": {},
   "outputs": [],
   "source": [
    "def train_test_split(data, perc):\n",
    "    data=data.values\n",
    "    n= int(len(data)*(1-perc))\n",
    "    return data[:n],data[n:]"
   ]
  },
  {
   "cell_type": "code",
   "execution_count": 12,
   "id": "c2571503",
   "metadata": {},
   "outputs": [],
   "source": [
    "train, test=train_test_split(df, 0.2)"
   ]
  },
  {
   "cell_type": "code",
   "execution_count": 13,
   "id": "fda389ec",
   "metadata": {},
   "outputs": [
    {
     "name": "stdout",
     "output_type": "stream",
     "text": [
      "250\n",
      "200\n",
      "50\n"
     ]
    }
   ],
   "source": [
    "print(len(df))\n",
    "print(len(train))\n",
    "print(len(test))"
   ]
  },
  {
   "cell_type": "code",
   "execution_count": 14,
   "id": "186f146d",
   "metadata": {},
   "outputs": [],
   "source": [
    "x=train[:,:-1]\n",
    "y=train[:,-1]"
   ]
  },
  {
   "cell_type": "code",
   "execution_count": 22,
   "id": "ee15f781",
   "metadata": {},
   "outputs": [
    {
     "data": {
      "text/plain": [
       "array(['277.42', '279.93', '277.66', '277.65', '271.6', '270.9', '271.4',\n",
       "       '268.72', '265.02', '266.69', '265.275', '265.51', '262.63',\n",
       "       '259.43', '260.9', '257.38', '258.36', '259.89', '257.89',\n",
       "       '257.24', '253.59', '252.57', '253.81', '250.79', '245.71',\n",
       "       '247.3', '247.4', '249.68', '249.31', '251.49', '251.72', '250.78',\n",
       "       '245.17', '246.48', '243.12', '243.08', '245.18', '248.15',\n",
       "       '243.03', '239', '246.23', '247.18', '252.46', '249.73', '246.47',\n",
       "       '247.79', '251.86', '252.18', '252.51', '254.56', '261.97',\n",
       "       '261.55', '261.15', '257.17', '260.58', '258.26', '258.74',\n",
       "       '260.74', '259.5', '255.59', '258.49', '255.91', '255.85',\n",
       "       '253.25', '249.9', '247.86', '249.07', '242.35', '235.77',\n",
       "       '231.85', '235.24', '236.48', '232.34', '235.46', '237.58',\n",
       "       '235.99', '230.35', '230.72', '237.04', '237.71', '234.81',\n",
       "       '235.75', '237.13', '232.42', '233.78', '227.39', '231.6',\n",
       "       '226.73', '227.56', '233.87', '236.94', '232.38', '228.99',\n",
       "       '234.55', '233.27', '234.51', '240.97', '243.79', '244.2', '243.7',\n",
       "       '244.99', '244.49', '242.82', '243.77', '242.47', '242.2',\n",
       "       '242.01', '243', '239.51', '239.65', '231.96', '238.93', '232.9',\n",
       "       '232.33', '229.53', '225.95', '224.97', '224.34', '216.44',\n",
       "       '212.65', '213.02', '216.34', '214.93', '217.49', '219.62',\n",
       "       '218.29', '212.25', '217.9', '217.69', '222.42', '221.68',\n",
       "       '224.15', '224.96', '222.75', '221.02', '223.94', '222.59',\n",
       "       '218.59', '219.42', '219.28', '214.13', '214.2', '213.26',\n",
       "       '210.52', '211.8', '216.01', '214.29', '214.36', '214.24',\n",
       "       '215.37', '216.21', '214.07', '215.23', '213.87', '213.86',\n",
       "       '210.11', '210.39', '212.42', '211.08', '214.46', '217.23',\n",
       "       '216.51', '215.44', '216.55', '211.01', '218.39', '223.72',\n",
       "       '223.29', '216.39', '206.43', '202.33', '202.47', '204.72',\n",
       "       '202.68', '213.25', '210.08', '216.23', '214.89', '214.8',\n",
       "       '214.65', '214.22', '219.66', '219.66', '220.86', '222.86',\n",
       "       '221.4', '215.81', '210.58', '209.83', '205.91', '210.38',\n",
       "       '206.19', '212.46', '210.33', '207.26', '209.44', '207.82',\n",
       "       '203.19', '200.59', '207.42'], dtype=object)"
      ]
     },
     "execution_count": 22,
     "metadata": {},
     "output_type": "execute_result"
    }
   ],
   "source": [
    "y"
   ]
  },
  {
   "cell_type": "code",
   "execution_count": 16,
   "id": "442ca89a",
   "metadata": {},
   "outputs": [],
   "source": [
    "from xgboost import XGBRegressor"
   ]
  },
  {
   "cell_type": "code",
   "execution_count": 17,
   "id": "7213fbea",
   "metadata": {},
   "outputs": [
    {
     "data": {
      "text/plain": [
       "XGBRegressor(base_score=0.5, booster='gbtree', colsample_bylevel=1,\n",
       "             colsample_bynode=1, colsample_bytree=1, gamma=0, gpu_id=-1,\n",
       "             importance_type='gain', interaction_constraints='',\n",
       "             learning_rate=0.300000012, max_delta_step=0, max_depth=6,\n",
       "             min_child_weight=1, missing=nan, monotone_constraints='()',\n",
       "             n_estimators=1000, n_jobs=8, num_parallel_tree=1, random_state=0,\n",
       "             reg_alpha=0, reg_lambda=1, scale_pos_weight=1, subsample=1,\n",
       "             tree_method='exact', validate_parameters=1, verbosity=None)"
      ]
     },
     "execution_count": 17,
     "metadata": {},
     "output_type": "execute_result"
    }
   ],
   "source": [
    "model=XGBRegressor(objective='reg:squarederror',n_estimators=1000)\n",
    "model.fit(x,y)"
   ]
  },
  {
   "cell_type": "code",
   "execution_count": 18,
   "id": "6d64949e",
   "metadata": {},
   "outputs": [
    {
     "data": {
      "text/plain": [
       "array(['207.42', '202.54'], dtype=object)"
      ]
     },
     "execution_count": 18,
     "metadata": {},
     "output_type": "execute_result"
    }
   ],
   "source": [
    "test[0]"
   ]
  },
  {
   "cell_type": "code",
   "execution_count": 19,
   "id": "1adbdc70",
   "metadata": {},
   "outputs": [
    {
     "name": "stdout",
     "output_type": "stream",
     "text": [
      "209.43782\n"
     ]
    }
   ],
   "source": [
    "val=np.array(test[0])\n",
    "pred = model.predict(val)\n",
    "print(pred[0])"
   ]
  },
  {
   "cell_type": "markdown",
   "id": "2780dcf6",
   "metadata": {},
   "source": [
    "### Predict"
   ]
  },
  {
   "cell_type": "code",
   "execution_count": 20,
   "id": "144dc311",
   "metadata": {},
   "outputs": [],
   "source": [
    "def xgb_predict(train,val):\n",
    "    train=np.array(train)\n",
    "    x,y=train[:,:-1],train[:,-1]\n",
    "    model=XGBRegressor()\n",
    "    model.fit(x,y)\n",
    "    \n",
    "    val=np.array(val).reshape(-1,1)\n",
    "    pred=model.predict(val)\n",
    "    return pred[0]"
   ]
  },
  {
   "cell_type": "code",
   "execution_count": 21,
   "id": "1731df76",
   "metadata": {},
   "outputs": [
    {
     "name": "stdout",
     "output_type": "stream",
     "text": [
      "[209.43782 204.71951]\n"
     ]
    }
   ],
   "source": [
    "print(pred)"
   ]
  },
  {
   "cell_type": "code",
   "execution_count": null,
   "id": "45522566",
   "metadata": {},
   "outputs": [],
   "source": []
  }
 ],
 "metadata": {
  "kernelspec": {
   "display_name": "Python 3",
   "language": "python",
   "name": "python3"
  },
  "language_info": {
   "codemirror_mode": {
    "name": "ipython",
    "version": 3
   },
   "file_extension": ".py",
   "mimetype": "text/x-python",
   "name": "python",
   "nbconvert_exporter": "python",
   "pygments_lexer": "ipython3",
   "version": "3.8.8"
  }
 },
 "nbformat": 4,
 "nbformat_minor": 5
}
