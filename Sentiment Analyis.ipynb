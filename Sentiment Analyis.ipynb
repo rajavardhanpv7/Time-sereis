{
 "cells": [
  {
   "cell_type": "code",
   "execution_count": 1,
   "id": "c28f3828",
   "metadata": {},
   "outputs": [],
   "source": [
    "import pandas as pd\n",
    "data=pd.read_csv(r'C:\\Users\\Rajavardhan\\Downloads\\archive\\train.csv')\n",
    "#data1=pd.read_csv(r'C:\\Users\\Rajavardhan\\Downloads\\archive\\test.csv')"
   ]
  },
  {
   "cell_type": "code",
   "execution_count": 2,
   "id": "413f6604",
   "metadata": {},
   "outputs": [
    {
     "data": {
      "text/html": [
       "<div>\n",
       "<style scoped>\n",
       "    .dataframe tbody tr th:only-of-type {\n",
       "        vertical-align: middle;\n",
       "    }\n",
       "\n",
       "    .dataframe tbody tr th {\n",
       "        vertical-align: top;\n",
       "    }\n",
       "\n",
       "    .dataframe thead th {\n",
       "        text-align: right;\n",
       "    }\n",
       "</style>\n",
       "<table border=\"1\" class=\"dataframe\">\n",
       "  <thead>\n",
       "    <tr style=\"text-align: right;\">\n",
       "      <th></th>\n",
       "      <th>User_ID</th>\n",
       "      <th>Description</th>\n",
       "      <th>Browser_Used</th>\n",
       "      <th>Device_Used</th>\n",
       "      <th>Is_Response</th>\n",
       "    </tr>\n",
       "  </thead>\n",
       "  <tbody>\n",
       "    <tr>\n",
       "      <th>0</th>\n",
       "      <td>id10326</td>\n",
       "      <td>The room was kind of clean but had a VERY stro...</td>\n",
       "      <td>Edge</td>\n",
       "      <td>Mobile</td>\n",
       "      <td>not happy</td>\n",
       "    </tr>\n",
       "    <tr>\n",
       "      <th>1</th>\n",
       "      <td>id10327</td>\n",
       "      <td>I stayed at the Crown Plaza April -- - April -...</td>\n",
       "      <td>Internet Explorer</td>\n",
       "      <td>Mobile</td>\n",
       "      <td>not happy</td>\n",
       "    </tr>\n",
       "    <tr>\n",
       "      <th>2</th>\n",
       "      <td>id10328</td>\n",
       "      <td>I booked this hotel through Hotwire at the low...</td>\n",
       "      <td>Mozilla</td>\n",
       "      <td>Tablet</td>\n",
       "      <td>not happy</td>\n",
       "    </tr>\n",
       "    <tr>\n",
       "      <th>3</th>\n",
       "      <td>id10329</td>\n",
       "      <td>Stayed here with husband and sons on the way t...</td>\n",
       "      <td>InternetExplorer</td>\n",
       "      <td>Desktop</td>\n",
       "      <td>happy</td>\n",
       "    </tr>\n",
       "    <tr>\n",
       "      <th>4</th>\n",
       "      <td>id10330</td>\n",
       "      <td>My girlfriends and I stayed here to celebrate ...</td>\n",
       "      <td>Edge</td>\n",
       "      <td>Tablet</td>\n",
       "      <td>not happy</td>\n",
       "    </tr>\n",
       "  </tbody>\n",
       "</table>\n",
       "</div>"
      ],
      "text/plain": [
       "   User_ID                                        Description  \\\n",
       "0  id10326  The room was kind of clean but had a VERY stro...   \n",
       "1  id10327  I stayed at the Crown Plaza April -- - April -...   \n",
       "2  id10328  I booked this hotel through Hotwire at the low...   \n",
       "3  id10329  Stayed here with husband and sons on the way t...   \n",
       "4  id10330  My girlfriends and I stayed here to celebrate ...   \n",
       "\n",
       "        Browser_Used Device_Used Is_Response  \n",
       "0               Edge      Mobile   not happy  \n",
       "1  Internet Explorer      Mobile   not happy  \n",
       "2            Mozilla      Tablet   not happy  \n",
       "3   InternetExplorer     Desktop       happy  \n",
       "4               Edge      Tablet   not happy  "
      ]
     },
     "execution_count": 2,
     "metadata": {},
     "output_type": "execute_result"
    }
   ],
   "source": [
    "#frames = [data, data1]\n",
    "#df = pd.concat(frames)\n",
    "#df.head()\n",
    "data.head()"
   ]
  },
  {
   "cell_type": "code",
   "execution_count": 3,
   "id": "0a982283",
   "metadata": {},
   "outputs": [
    {
     "data": {
      "text/plain": [
       "(38932, 5)"
      ]
     },
     "execution_count": 3,
     "metadata": {},
     "output_type": "execute_result"
    }
   ],
   "source": [
    "data.shape"
   ]
  },
  {
   "cell_type": "code",
   "execution_count": 4,
   "id": "d719e48b",
   "metadata": {},
   "outputs": [
    {
     "data": {
      "text/html": [
       "<div>\n",
       "<style scoped>\n",
       "    .dataframe tbody tr th:only-of-type {\n",
       "        vertical-align: middle;\n",
       "    }\n",
       "\n",
       "    .dataframe tbody tr th {\n",
       "        vertical-align: top;\n",
       "    }\n",
       "\n",
       "    .dataframe thead th {\n",
       "        text-align: right;\n",
       "    }\n",
       "</style>\n",
       "<table border=\"1\" class=\"dataframe\">\n",
       "  <thead>\n",
       "    <tr style=\"text-align: right;\">\n",
       "      <th></th>\n",
       "      <th>count</th>\n",
       "      <th>unique</th>\n",
       "      <th>top</th>\n",
       "      <th>freq</th>\n",
       "    </tr>\n",
       "  </thead>\n",
       "  <tbody>\n",
       "    <tr>\n",
       "      <th>User_ID</th>\n",
       "      <td>38932</td>\n",
       "      <td>38932</td>\n",
       "      <td>id14135</td>\n",
       "      <td>1</td>\n",
       "    </tr>\n",
       "    <tr>\n",
       "      <th>Description</th>\n",
       "      <td>38932</td>\n",
       "      <td>38932</td>\n",
       "      <td>From an electricity outage (beyond their contr...</td>\n",
       "      <td>1</td>\n",
       "    </tr>\n",
       "    <tr>\n",
       "      <th>Browser_Used</th>\n",
       "      <td>38932</td>\n",
       "      <td>11</td>\n",
       "      <td>Firefox</td>\n",
       "      <td>7367</td>\n",
       "    </tr>\n",
       "    <tr>\n",
       "      <th>Device_Used</th>\n",
       "      <td>38932</td>\n",
       "      <td>3</td>\n",
       "      <td>Desktop</td>\n",
       "      <td>15026</td>\n",
       "    </tr>\n",
       "    <tr>\n",
       "      <th>Is_Response</th>\n",
       "      <td>38932</td>\n",
       "      <td>2</td>\n",
       "      <td>happy</td>\n",
       "      <td>26521</td>\n",
       "    </tr>\n",
       "  </tbody>\n",
       "</table>\n",
       "</div>"
      ],
      "text/plain": [
       "              count unique                                                top  \\\n",
       "User_ID       38932  38932                                            id14135   \n",
       "Description   38932  38932  From an electricity outage (beyond their contr...   \n",
       "Browser_Used  38932     11                                            Firefox   \n",
       "Device_Used   38932      3                                            Desktop   \n",
       "Is_Response   38932      2                                              happy   \n",
       "\n",
       "               freq  \n",
       "User_ID           1  \n",
       "Description       1  \n",
       "Browser_Used   7367  \n",
       "Device_Used   15026  \n",
       "Is_Response   26521  "
      ]
     },
     "execution_count": 4,
     "metadata": {},
     "output_type": "execute_result"
    }
   ],
   "source": [
    "data.describe().transpose()"
   ]
  },
  {
   "cell_type": "markdown",
   "id": "94b22dc1",
   "metadata": {},
   "source": [
    "### Data Cleaning/EDA"
   ]
  },
  {
   "cell_type": "code",
   "execution_count": 5,
   "id": "794c1d54",
   "metadata": {},
   "outputs": [
    {
     "data": {
      "text/html": [
       "<div>\n",
       "<style scoped>\n",
       "    .dataframe tbody tr th:only-of-type {\n",
       "        vertical-align: middle;\n",
       "    }\n",
       "\n",
       "    .dataframe tbody tr th {\n",
       "        vertical-align: top;\n",
       "    }\n",
       "\n",
       "    .dataframe thead th {\n",
       "        text-align: right;\n",
       "    }\n",
       "</style>\n",
       "<table border=\"1\" class=\"dataframe\">\n",
       "  <thead>\n",
       "    <tr style=\"text-align: right;\">\n",
       "      <th></th>\n",
       "      <th>count</th>\n",
       "      <th>perenctage</th>\n",
       "    </tr>\n",
       "  </thead>\n",
       "  <tbody>\n",
       "    <tr>\n",
       "      <th>User_ID</th>\n",
       "      <td>0</td>\n",
       "      <td>0.0</td>\n",
       "    </tr>\n",
       "    <tr>\n",
       "      <th>Description</th>\n",
       "      <td>0</td>\n",
       "      <td>0.0</td>\n",
       "    </tr>\n",
       "    <tr>\n",
       "      <th>Browser_Used</th>\n",
       "      <td>0</td>\n",
       "      <td>0.0</td>\n",
       "    </tr>\n",
       "    <tr>\n",
       "      <th>Device_Used</th>\n",
       "      <td>0</td>\n",
       "      <td>0.0</td>\n",
       "    </tr>\n",
       "    <tr>\n",
       "      <th>Is_Response</th>\n",
       "      <td>0</td>\n",
       "      <td>0.0</td>\n",
       "    </tr>\n",
       "  </tbody>\n",
       "</table>\n",
       "</div>"
      ],
      "text/plain": [
       "              count  perenctage\n",
       "User_ID           0         0.0\n",
       "Description       0         0.0\n",
       "Browser_Used      0         0.0\n",
       "Device_Used       0         0.0\n",
       "Is_Response       0         0.0"
      ]
     },
     "execution_count": 5,
     "metadata": {},
     "output_type": "execute_result"
    }
   ],
   "source": [
    "#Checking Missing Values in the Data Set and\n",
    "#Printing the % of missing values for each column\n",
    "count=data.isnull().sum().sort_values(ascending=False)\n",
    "percentage=((data.isnull().sum()/len(data)*100)).sort_values(ascending=False)\n",
    "missing_data=pd.concat([count,percentage],axis=1,\n",
    "keys=['count','perenctage'])\n",
    "missing_data"
   ]
  },
  {
   "cell_type": "code",
   "execution_count": 6,
   "id": "5015f4e8",
   "metadata": {},
   "outputs": [
    {
     "name": "stdout",
     "output_type": "stream",
     "text": [
      "Perecentage for default\n",
      "\n",
      "happy        68.12\n",
      "not happy    31.88\n",
      "Name: Is_Response, dtype: float64\n"
     ]
    },
    {
     "data": {
      "image/png": "[encoded data removed]",
      "text/plain": [
       "<Figure size 432x288 with 1 Axes>"
      ]
     },
     "metadata": {
      "needs_background": "light"
     },
     "output_type": "display_data"
    }
   ],
   "source": [
    "# Checking for Distribution of Default\n",
    "import matplotlib.pyplot as plt\n",
    "%matplotlib inline\n",
    "print('Perecentage for default\\n')\n",
    "print(round(data.Is_Response.value_counts(normalize=True)*100,2))\n",
    "round(data.Is_Response.value_counts(normalize=True)*100,2).plot(kind='bar')\n",
    "plt.title('Percentage Distributions')\n",
    "plt.show()"
   ]
  },
  {
   "cell_type": "code",
   "execution_count": 7,
   "id": "ad0ecd51",
   "metadata": {},
   "outputs": [
    {
     "data": {
      "text/plain": [
       "Index(['User_ID', 'Description', 'Browser_Used', 'Device_Used', 'Is_Response'], dtype='object')"
      ]
     },
     "execution_count": 7,
     "metadata": {},
     "output_type": "execute_result"
    }
   ],
   "source": [
    "data.columns\n"
   ]
  },
  {
   "cell_type": "code",
   "execution_count": 8,
   "id": "c80b2d9e",
   "metadata": {},
   "outputs": [],
   "source": [
    "# Removing Columns \n",
    "data.drop(columns=['User_ID', 'Browser_Used', 'Device_Used', ], inplace=True)\n"
   ]
  },
  {
   "cell_type": "markdown",
   "id": "7698d70f",
   "metadata": {},
   "source": [
    "### Applying First Level Cleaning"
   ]
  },
  {
   "cell_type": "code",
   "execution_count": 9,
   "id": "c9e9f7cc",
   "metadata": {},
   "outputs": [],
   "source": [
    "import re\n",
    "import string"
   ]
  },
  {
   "cell_type": "code",
   "execution_count": 10,
   "id": "a042092e",
   "metadata": {},
   "outputs": [],
   "source": [
    "# This function converts to lower-case, removes square bracket, removes number ans punctuation\n",
    "def text_clean_1(text):\n",
    "    text=text.lower()\n",
    "    text=re.sub('\\[.*?\\]','', text)\n",
    "    text=re.sub('[%s]'% re.escape(string.punctuation),'',text)\n",
    "    text=re.sub('\\w*\\d\\w*','',text)\n",
    "    return text\n",
    "cleaned1=lambda x: text_clean_1(x)"
   ]
  },
  {
   "cell_type": "code",
   "execution_count": 11,
   "id": "ff428ad6",
   "metadata": {},
   "outputs": [
    {
     "data": {
      "text/html": [
       "<div>\n",
       "<style scoped>\n",
       "    .dataframe tbody tr th:only-of-type {\n",
       "        vertical-align: middle;\n",
       "    }\n",
       "\n",
       "    .dataframe tbody tr th {\n",
       "        vertical-align: top;\n",
       "    }\n",
       "\n",
       "    .dataframe thead th {\n",
       "        text-align: right;\n",
       "    }\n",
       "</style>\n",
       "<table border=\"1\" class=\"dataframe\">\n",
       "  <thead>\n",
       "    <tr style=\"text-align: right;\">\n",
       "      <th></th>\n",
       "      <th>Description</th>\n",
       "      <th>Is_Response</th>\n",
       "      <th>cleaned_description</th>\n",
       "    </tr>\n",
       "  </thead>\n",
       "  <tbody>\n",
       "    <tr>\n",
       "      <th>0</th>\n",
       "      <td>The room was kind of clean but had a VERY stro...</td>\n",
       "      <td>not happy</td>\n",
       "      <td>the room was kind of clean but had a very stro...</td>\n",
       "    </tr>\n",
       "    <tr>\n",
       "      <th>1</th>\n",
       "      <td>I stayed at the Crown Plaza April -- - April -...</td>\n",
       "      <td>not happy</td>\n",
       "      <td>i stayed at the crown plaza april   april   th...</td>\n",
       "    </tr>\n",
       "    <tr>\n",
       "      <th>2</th>\n",
       "      <td>I booked this hotel through Hotwire at the low...</td>\n",
       "      <td>not happy</td>\n",
       "      <td>i booked this hotel through hotwire at the low...</td>\n",
       "    </tr>\n",
       "    <tr>\n",
       "      <th>3</th>\n",
       "      <td>Stayed here with husband and sons on the way t...</td>\n",
       "      <td>happy</td>\n",
       "      <td>stayed here with husband and sons on the way t...</td>\n",
       "    </tr>\n",
       "    <tr>\n",
       "      <th>4</th>\n",
       "      <td>My girlfriends and I stayed here to celebrate ...</td>\n",
       "      <td>not happy</td>\n",
       "      <td>my girlfriends and i stayed here to celebrate ...</td>\n",
       "    </tr>\n",
       "    <tr>\n",
       "      <th>5</th>\n",
       "      <td>We had - rooms. One was very nice and clearly ...</td>\n",
       "      <td>happy</td>\n",
       "      <td>we had  rooms one was very nice and clearly ha...</td>\n",
       "    </tr>\n",
       "    <tr>\n",
       "      <th>6</th>\n",
       "      <td>My husband and I have stayed in this hotel a f...</td>\n",
       "      <td>not happy</td>\n",
       "      <td>my husband and i have stayed in this hotel a f...</td>\n",
       "    </tr>\n",
       "    <tr>\n",
       "      <th>7</th>\n",
       "      <td>My wife &amp; I stayed in this glorious city a whi...</td>\n",
       "      <td>happy</td>\n",
       "      <td>my wife  i stayed in this glorious city a whil...</td>\n",
       "    </tr>\n",
       "    <tr>\n",
       "      <th>8</th>\n",
       "      <td>My boyfriend and I stayed at the Fairmont on a...</td>\n",
       "      <td>happy</td>\n",
       "      <td>my boyfriend and i stayed at the fairmont on a...</td>\n",
       "    </tr>\n",
       "    <tr>\n",
       "      <th>9</th>\n",
       "      <td>Wonderful staff, great location, but it was de...</td>\n",
       "      <td>not happy</td>\n",
       "      <td>wonderful staff great location but it was defi...</td>\n",
       "    </tr>\n",
       "  </tbody>\n",
       "</table>\n",
       "</div>"
      ],
      "text/plain": [
       "                                         Description Is_Response  \\\n",
       "0  The room was kind of clean but had a VERY stro...   not happy   \n",
       "1  I stayed at the Crown Plaza April -- - April -...   not happy   \n",
       "2  I booked this hotel through Hotwire at the low...   not happy   \n",
       "3  Stayed here with husband and sons on the way t...       happy   \n",
       "4  My girlfriends and I stayed here to celebrate ...   not happy   \n",
       "5  We had - rooms. One was very nice and clearly ...       happy   \n",
       "6  My husband and I have stayed in this hotel a f...   not happy   \n",
       "7  My wife & I stayed in this glorious city a whi...       happy   \n",
       "8  My boyfriend and I stayed at the Fairmont on a...       happy   \n",
       "9  Wonderful staff, great location, but it was de...   not happy   \n",
       "\n",
       "                                 cleaned_description  \n",
       "0  the room was kind of clean but had a very stro...  \n",
       "1  i stayed at the crown plaza april   april   th...  \n",
       "2  i booked this hotel through hotwire at the low...  \n",
       "3  stayed here with husband and sons on the way t...  \n",
       "4  my girlfriends and i stayed here to celebrate ...  \n",
       "5  we had  rooms one was very nice and clearly ha...  \n",
       "6  my husband and i have stayed in this hotel a f...  \n",
       "7  my wife  i stayed in this glorious city a whil...  \n",
       "8  my boyfriend and i stayed at the fairmont on a...  \n",
       "9  wonderful staff great location but it was defi...  "
      ]
     },
     "execution_count": 11,
     "metadata": {},
     "output_type": "execute_result"
    }
   ],
   "source": [
    "# Let's take a look at the updated text\n",
    "data['cleaned_description']=pd.DataFrame(data.Description.apply(cleaned1))\n",
    "data.head(10)"
   ]
  },
  {
   "cell_type": "markdown",
   "id": "c3e2f0b3",
   "metadata": {},
   "source": [
    "### Apply Second Level Cleaning"
   ]
  },
  {
   "cell_type": "code",
   "execution_count": 12,
   "id": "97bbf634",
   "metadata": {},
   "outputs": [],
   "source": [
    "def text_clean_2(text):\n",
    "    text=re.sub('[''\"\",,,]','', text)\n",
    "    text=re.sub('\\n','', text)\n",
    "    return text\n",
    "cleaned2=lambda x: text_clean_2(x)"
   ]
  },
  {
   "cell_type": "code",
   "execution_count": 13,
   "id": "fb611178",
   "metadata": {},
   "outputs": [
    {
     "data": {
      "text/html": [
       "<div>\n",
       "<style scoped>\n",
       "    .dataframe tbody tr th:only-of-type {\n",
       "        vertical-align: middle;\n",
       "    }\n",
       "\n",
       "    .dataframe tbody tr th {\n",
       "        vertical-align: top;\n",
       "    }\n",
       "\n",
       "    .dataframe thead th {\n",
       "        text-align: right;\n",
       "    }\n",
       "</style>\n",
       "<table border=\"1\" class=\"dataframe\">\n",
       "  <thead>\n",
       "    <tr style=\"text-align: right;\">\n",
       "      <th></th>\n",
       "      <th>Description</th>\n",
       "      <th>Is_Response</th>\n",
       "      <th>cleaned_description</th>\n",
       "      <th>cleaned_description_new</th>\n",
       "    </tr>\n",
       "  </thead>\n",
       "  <tbody>\n",
       "    <tr>\n",
       "      <th>0</th>\n",
       "      <td>The room was kind of clean but had a VERY stro...</td>\n",
       "      <td>not happy</td>\n",
       "      <td>the room was kind of clean but had a very stro...</td>\n",
       "      <td>the room was kind of clean but had a very stro...</td>\n",
       "    </tr>\n",
       "    <tr>\n",
       "      <th>1</th>\n",
       "      <td>I stayed at the Crown Plaza April -- - April -...</td>\n",
       "      <td>not happy</td>\n",
       "      <td>i stayed at the crown plaza april   april   th...</td>\n",
       "      <td>i stayed at the crown plaza april   april   th...</td>\n",
       "    </tr>\n",
       "    <tr>\n",
       "      <th>2</th>\n",
       "      <td>I booked this hotel through Hotwire at the low...</td>\n",
       "      <td>not happy</td>\n",
       "      <td>i booked this hotel through hotwire at the low...</td>\n",
       "      <td>i booked this hotel through hotwire at the low...</td>\n",
       "    </tr>\n",
       "    <tr>\n",
       "      <th>3</th>\n",
       "      <td>Stayed here with husband and sons on the way t...</td>\n",
       "      <td>happy</td>\n",
       "      <td>stayed here with husband and sons on the way t...</td>\n",
       "      <td>stayed here with husband and sons on the way t...</td>\n",
       "    </tr>\n",
       "    <tr>\n",
       "      <th>4</th>\n",
       "      <td>My girlfriends and I stayed here to celebrate ...</td>\n",
       "      <td>not happy</td>\n",
       "      <td>my girlfriends and i stayed here to celebrate ...</td>\n",
       "      <td>my girlfriends and i stayed here to celebrate ...</td>\n",
       "    </tr>\n",
       "    <tr>\n",
       "      <th>5</th>\n",
       "      <td>We had - rooms. One was very nice and clearly ...</td>\n",
       "      <td>happy</td>\n",
       "      <td>we had  rooms one was very nice and clearly ha...</td>\n",
       "      <td>we had  rooms one was very nice and clearly ha...</td>\n",
       "    </tr>\n",
       "    <tr>\n",
       "      <th>6</th>\n",
       "      <td>My husband and I have stayed in this hotel a f...</td>\n",
       "      <td>not happy</td>\n",
       "      <td>my husband and i have stayed in this hotel a f...</td>\n",
       "      <td>my husband and i have stayed in this hotel a f...</td>\n",
       "    </tr>\n",
       "    <tr>\n",
       "      <th>7</th>\n",
       "      <td>My wife &amp; I stayed in this glorious city a whi...</td>\n",
       "      <td>happy</td>\n",
       "      <td>my wife  i stayed in this glorious city a whil...</td>\n",
       "      <td>my wife  i stayed in this glorious city a whil...</td>\n",
       "    </tr>\n",
       "    <tr>\n",
       "      <th>8</th>\n",
       "      <td>My boyfriend and I stayed at the Fairmont on a...</td>\n",
       "      <td>happy</td>\n",
       "      <td>my boyfriend and i stayed at the fairmont on a...</td>\n",
       "      <td>my boyfriend and i stayed at the fairmont on a...</td>\n",
       "    </tr>\n",
       "    <tr>\n",
       "      <th>9</th>\n",
       "      <td>Wonderful staff, great location, but it was de...</td>\n",
       "      <td>not happy</td>\n",
       "      <td>wonderful staff great location but it was defi...</td>\n",
       "      <td>wonderful staff great location but it was defi...</td>\n",
       "    </tr>\n",
       "  </tbody>\n",
       "</table>\n",
       "</div>"
      ],
      "text/plain": [
       "                                         Description Is_Response  \\\n",
       "0  The room was kind of clean but had a VERY stro...   not happy   \n",
       "1  I stayed at the Crown Plaza April -- - April -...   not happy   \n",
       "2  I booked this hotel through Hotwire at the low...   not happy   \n",
       "3  Stayed here with husband and sons on the way t...       happy   \n",
       "4  My girlfriends and I stayed here to celebrate ...   not happy   \n",
       "5  We had - rooms. One was very nice and clearly ...       happy   \n",
       "6  My husband and I have stayed in this hotel a f...   not happy   \n",
       "7  My wife & I stayed in this glorious city a whi...       happy   \n",
       "8  My boyfriend and I stayed at the Fairmont on a...       happy   \n",
       "9  Wonderful staff, great location, but it was de...   not happy   \n",
       "\n",
       "                                 cleaned_description  \\\n",
       "0  the room was kind of clean but had a very stro...   \n",
       "1  i stayed at the crown plaza april   april   th...   \n",
       "2  i booked this hotel through hotwire at the low...   \n",
       "3  stayed here with husband and sons on the way t...   \n",
       "4  my girlfriends and i stayed here to celebrate ...   \n",
       "5  we had  rooms one was very nice and clearly ha...   \n",
       "6  my husband and i have stayed in this hotel a f...   \n",
       "7  my wife  i stayed in this glorious city a whil...   \n",
       "8  my boyfriend and i stayed at the fairmont on a...   \n",
       "9  wonderful staff great location but it was defi...   \n",
       "\n",
       "                             cleaned_description_new  \n",
       "0  the room was kind of clean but had a very stro...  \n",
       "1  i stayed at the crown plaza april   april   th...  \n",
       "2  i booked this hotel through hotwire at the low...  \n",
       "3  stayed here with husband and sons on the way t...  \n",
       "4  my girlfriends and i stayed here to celebrate ...  \n",
       "5  we had  rooms one was very nice and clearly ha...  \n",
       "6  my husband and i have stayed in this hotel a f...  \n",
       "7  my wife  i stayed in this glorious city a whil...  \n",
       "8  my boyfriend and i stayed at the fairmont on a...  \n",
       "9  wonderful staff great location but it was defi...  "
      ]
     },
     "execution_count": 13,
     "metadata": {},
     "output_type": "execute_result"
    }
   ],
   "source": [
    "data['cleaned_description_new']=pd.DataFrame(data['cleaned_description'].apply(cleaned2))\n",
    "data.head(10)"
   ]
  },
  {
   "cell_type": "markdown",
   "id": "43398605",
   "metadata": {},
   "source": [
    "### Model Training"
   ]
  },
  {
   "cell_type": "code",
   "execution_count": 14,
   "id": "2b76ee33",
   "metadata": {},
   "outputs": [
    {
     "name": "stdout",
     "output_type": "stream",
     "text": [
      "IV_train: 35038\n",
      "IV_test: 3894\n",
      "DV_train: 35038\n",
      "DV_test: 3894\n"
     ]
    }
   ],
   "source": [
    "from sklearn.model_selection import train_test_split\n",
    "\n",
    "Independent_var=data.cleaned_description_new\n",
    "Dependent_var=data.Is_Response\n",
    "\n",
    "IV_train,IV_test, DV_train,DV_test=train_test_split(Independent_var,Dependent_var,test_size=0.1,random_state=225)\n",
    "print('IV_train:',len(IV_train))\n",
    "print('IV_test:',len(IV_test))\n",
    "print('DV_train:',len(DV_train))\n",
    "print('DV_test:',len(DV_test))"
   ]
  },
  {
   "cell_type": "code",
   "execution_count": 15,
   "id": "d041dba5",
   "metadata": {},
   "outputs": [],
   "source": [
    "from sklearn.feature_extraction.text import TfidfVectorizer\n",
    "from sklearn.linear_model import LogisticRegression\n",
    "\n",
    "tvec=TfidfVectorizer()\n",
    "clf=LogisticRegression(solver='lbfgs')\n",
    "\n",
    "from sklearn.pipeline import Pipeline"
   ]
  },
  {
   "cell_type": "code",
   "execution_count": 16,
   "id": "fb5d3f9f",
   "metadata": {
    "scrolled": true
   },
   "outputs": [
    {
     "name": "stderr",
     "output_type": "stream",
     "text": [
      "C:\\Users\\Rajavardhan\\Anaconda3\\lib\\site-packages\\sklearn\\linear_model\\_logistic.py:763: ConvergenceWarning: lbfgs failed to converge (status=1):\n",
      "STOP: TOTAL NO. of ITERATIONS REACHED LIMIT.\n",
      "\n",
      "Increase the number of iterations (max_iter) or scale the data as shown in:\n",
      "    https://scikit-learn.org/stable/modules/preprocessing.html\n",
      "Please also refer to the documentation for alternative solver options:\n",
      "    https://scikit-learn.org/stable/modules/linear_model.html#logistic-regression\n",
      "  n_iter_i = _check_optimize_result(\n"
     ]
    },
    {
     "data": {
      "text/plain": [
       "Pipeline(steps=[('vectorizer', TfidfVectorizer()),\n",
       "                ('classifier', LogisticRegression())])"
      ]
     },
     "execution_count": 16,
     "metadata": {},
     "output_type": "execute_result"
    }
   ],
   "source": [
    "model=Pipeline([('vectorizer',tvec),('classifier',clf)])\n",
    "model.fit(IV_train,DV_train)"
   ]
  },
  {
   "cell_type": "code",
   "execution_count": 17,
   "id": "d571da25",
   "metadata": {},
   "outputs": [
    {
     "data": {
      "text/plain": [
       "array([[2417,  304],\n",
       "       [ 154, 1019]], dtype=int64)"
      ]
     },
     "execution_count": 17,
     "metadata": {},
     "output_type": "execute_result"
    }
   ],
   "source": [
    "from sklearn.metrics import confusion_matrix\n",
    "predictions=model.predict(IV_test)\n",
    "confusion_matrix(predictions,DV_test)"
   ]
  },
  {
   "cell_type": "markdown",
   "id": "ac6d229b",
   "metadata": {},
   "source": [
    "### Model Prediction"
   ]
  },
  {
   "cell_type": "code",
   "execution_count": 18,
   "id": "3b806464",
   "metadata": {},
   "outputs": [],
   "source": [
    "from sklearn.metrics import accuracy_score, precision_score, recall_score"
   ]
  },
  {
   "cell_type": "code",
   "execution_count": 19,
   "id": "a8be0418",
   "metadata": {},
   "outputs": [
    {
     "name": "stdout",
     "output_type": "stream",
     "text": [
      "Accuracy: 0.8823831535695943\n",
      "Precision: 0.8889271415963718\n",
      "Recall: 0.8823831535695943\n"
     ]
    }
   ],
   "source": [
    "print('Accuracy:', accuracy_score(predictions,DV_test))\n",
    "print('Precision:',precision_score(predictions,DV_test,average='weighted'))\n",
    "print('Recall:',recall_score(predictions,DV_test,average='weighted'))\n"
   ]
  },
  {
   "cell_type": "markdown",
   "id": "22780ed4",
   "metadata": {},
   "source": [
    "### Trying on new reviews"
   ]
  },
  {
   "cell_type": "code",
   "execution_count": 20,
   "id": "a75d775e",
   "metadata": {},
   "outputs": [
    {
     "name": "stdout",
     "output_type": "stream",
     "text": [
      "['happy']\n"
     ]
    }
   ],
   "source": [
    "example1=[\"I'm statisfied\"]\n",
    "result=model.predict(example1)\n",
    "print(result)"
   ]
  },
  {
   "cell_type": "code",
   "execution_count": 22,
   "id": "235a9cb5",
   "metadata": {},
   "outputs": [
    {
     "name": "stdout",
     "output_type": "stream",
     "text": [
      "['happy']\n"
     ]
    }
   ],
   "source": [
    "example2=[\"I'm delighted\"]\n",
    "result=model.predict(example2)\n",
    "print(result)"
   ]
  },
  {
   "cell_type": "code",
   "execution_count": 24,
   "id": "e3c868ef",
   "metadata": {},
   "outputs": [
    {
     "name": "stdout",
     "output_type": "stream",
     "text": [
      "['not happy']\n"
     ]
    }
   ],
   "source": [
    "example3=[\"I'm frustrated\"]\n",
    "result=model.predict(example3)\n",
    "print(result)"
   ]
  },
  {
   "cell_type": "code",
   "execution_count": null,
   "id": "ad32e4d3",
   "metadata": {},
   "outputs": [],
   "source": []
  }
 ],
 "metadata": {
  "kernelspec": {
   "display_name": "Python 3",
   "language": "python",
   "name": "python3"
  },
  "language_info": {
   "codemirror_mode": {
    "name": "ipython",
    "version": 3
   },
   "file_extension": ".py",
   "mimetype": "text/x-python",
   "name": "python",
   "nbconvert_exporter": "python",
   "pygments_lexer": "ipython3",
   "version": "3.8.8"
  }
 },
 "nbformat": 4,
 "nbformat_minor": 5
}
