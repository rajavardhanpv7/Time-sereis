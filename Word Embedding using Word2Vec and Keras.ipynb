{
 "cells": [
  {
   "cell_type": "code",
   "execution_count": 1,
   "id": "79ea3e71",
   "metadata": {},
   "outputs": [],
   "source": [
    "# define tokenized sentences as training data\n",
    "tokenized_sentences=[['Hello','This','is','python','training','by','Rajavardhan'],\n",
    "                    ['Hello','This','is','Java','training','by','Rajavardhan'],\n",
    "                    ['Hello','This','is','Data Science','training','by','Rajavardhan'],\n",
    "                    ['Hello','This','is','Ml','training','by','Rajavardhan']]"
   ]
  },
  {
   "cell_type": "code",
   "execution_count": 2,
   "id": "b9f36af0",
   "metadata": {},
   "outputs": [
    {
     "name": "stderr",
     "output_type": "stream",
     "text": [
      "C:\\Users\\Rajavardhan\\Anaconda3\\lib\\site-packages\\gensim\\similarities\\__init__.py:15: UserWarning: The gensim.similarities.levenshtein submodule is disabled, because the optional Levenshtein package <https://pypi.org/project/python-Levenshtein/> is unavailable. Install Levenhstein (e.g. `pip install python-Levenshtein`) to suppress this warning.\n",
      "  warnings.warn(msg)\n"
     ]
    }
   ],
   "source": [
    "# Training word2Vec Model\n",
    "from gensim.models import Word2Vec\n",
    "import warnings\n",
    "warnings.filterwarnings('ignore')\n",
    "mymodel=Word2Vec(tokenized_sentences,min_count=1)# min_count =1 means consider all the words if it occurs one time also"
   ]
  },
  {
   "cell_type": "code",
   "execution_count": 3,
   "id": "3a096820",
   "metadata": {},
   "outputs": [
    {
     "name": "stdout",
     "output_type": "stream",
     "text": [
      "Word2Vec(vocab=10, vector_size=100, alpha=0.025)\n"
     ]
    }
   ],
   "source": [
    "# Summarizing the loaded model\n",
    "print(mymodel)"
   ]
  },
  {
   "cell_type": "code",
   "execution_count": 4,
   "id": "3c8b6843",
   "metadata": {},
   "outputs": [],
   "source": [
    "# Summarize vocabulary\n",
    "words=list(mymodel.wv.index_to_key)"
   ]
  },
  {
   "cell_type": "code",
   "execution_count": 5,
   "id": "fc8c6b62",
   "metadata": {},
   "outputs": [
    {
     "name": "stdout",
     "output_type": "stream",
     "text": [
      "['Rajavardhan', 'by', 'training', 'is', 'This', 'Hello', 'Ml', 'Data Science', 'Java', 'python']\n"
     ]
    }
   ],
   "source": [
    "print(words)"
   ]
  },
  {
   "cell_type": "code",
   "execution_count": 6,
   "id": "0f7c9bd6",
   "metadata": {},
   "outputs": [
    {
     "data": {
      "text/plain": [
       "[('Rajavardhan', 0.09291724115610123),\n",
       " ('Ml', 0.004842519294470549),\n",
       " ('training', -0.00275400816462934),\n",
       " ('is', -0.013679755851626396),\n",
       " ('This', -0.028490997850894928),\n",
       " ('Hello', -0.05774582922458649),\n",
       " ('python', -0.09326909482479095),\n",
       " ('by', -0.11555546522140503),\n",
       " ('Java', -0.14454567432403564)]"
      ]
     },
     "execution_count": 6,
     "metadata": {},
     "output_type": "execute_result"
    }
   ],
   "source": [
    "# finding most similar words for word 'Data'\n",
    "mymodel.wv.most_similar('Data Science')\n"
   ]
  },
  {
   "cell_type": "code",
   "execution_count": 7,
   "id": "36c4685a",
   "metadata": {},
   "outputs": [],
   "source": [
    "# mymodel.wv.most_similar('life Science') \n",
    "# we can't find the similar words for unrealted words, this is limitation of the moethod"
   ]
  },
  {
   "cell_type": "markdown",
   "id": "c22cfd0b",
   "metadata": {},
   "source": [
    "### Option 2: Creating Embedding model using Keras"
   ]
  },
  {
   "cell_type": "code",
   "execution_count": 8,
   "id": "da5ee7c8",
   "metadata": {},
   "outputs": [],
   "source": [
    "import numpy as np\n",
    "from numpy import array\n",
    "from keras.preprocessing.text import one_hot\n",
    "from keras.preprocessing.sequence import pad_sequences\n",
    "from keras.models import Sequential\n",
    "from keras.layers import Dense\n",
    "from keras.layers import Flatten\n",
    "from keras.layers.embeddings import Embedding"
   ]
  },
  {
   "cell_type": "code",
   "execution_count": 9,
   "id": "c3412028",
   "metadata": {},
   "outputs": [],
   "source": [
    "# Defining the documents\n",
    "sent=['Hello,how are you',\n",
    "     'how are you',\n",
    "     'how are you doing',\n",
    "     'I am doing great',\n",
    "     'I am doing good',\n",
    "     'I am good']"
   ]
  },
  {
   "cell_type": "code",
   "execution_count": 10,
   "id": "d12dd5c0",
   "metadata": {},
   "outputs": [],
   "source": [
    "# defining class labels\n",
    "sent_labels=array([1,1,1,0,0,0])"
   ]
  },
  {
   "cell_type": "code",
   "execution_count": 11,
   "id": "98f32f7b",
   "metadata": {},
   "outputs": [
    {
     "name": "stdout",
     "output_type": "stream",
     "text": [
      "[[8, 2, 26, 6], [2, 26, 6], [2, 26, 6, 13], [26, 11, 13, 13], [26, 11, 13, 5], [26, 11, 5]]\n"
     ]
    }
   ],
   "source": [
    "# integer encoding of the documents\n",
    "my_vocab_size=30\n",
    "encoded_sent=[one_hot(i,my_vocab_size)for i in sent]\n",
    "print(encoded_sent)"
   ]
  },
  {
   "cell_type": "code",
   "execution_count": 12,
   "id": "b131068b",
   "metadata": {},
   "outputs": [
    {
     "name": "stdout",
     "output_type": "stream",
     "text": [
      "[[ 0  8  2 26  6]\n",
      " [ 0  0  2 26  6]\n",
      " [ 0  2 26  6 13]\n",
      " [ 0 26 11 13 13]\n",
      " [ 0 26 11 13  5]\n",
      " [ 0  0 26 11  5]]\n"
     ]
    }
   ],
   "source": [
    "# padding documents to a max length=5\n",
    "length=5\n",
    "padded_sent=pad_sequences(encoded_sent,maxlen=length,padding='pre')\n",
    "print(padded_sent)"
   ]
  },
  {
   "cell_type": "code",
   "execution_count": 13,
   "id": "da99c688",
   "metadata": {},
   "outputs": [],
   "source": [
    "# defining the model\n",
    "mymodel=Sequential()\n",
    "mymodel.add(Embedding(my_vocab_size, 8, input_length=length))\n",
    "mymodel.add(Flatten())\n",
    "mymodel.add(Dense(1,activation='sigmoid'))"
   ]
  },
  {
   "cell_type": "code",
   "execution_count": 14,
   "id": "e25ddad5",
   "metadata": {},
   "outputs": [],
   "source": [
    "# complining the model\n",
    "mymodel.compile(optimizer='adam',loss='binary_crossentropy',metrics=['accuracy'])"
   ]
  },
  {
   "cell_type": "code",
   "execution_count": 17,
   "id": "c14eceea",
   "metadata": {},
   "outputs": [
    {
     "name": "stdout",
     "output_type": "stream",
     "text": [
      "Epoch 1/30\n",
      "1/1 [==============================] - 27s 27s/step - loss: 0.6998 - accuracy: 0.3333\n",
      "Epoch 2/30\n",
      "1/1 [==============================] - 0s 3ms/step - loss: 0.6978 - accuracy: 0.5000\n",
      "Epoch 3/30\n",
      "1/1 [==============================] - 0s 4ms/step - loss: 0.6959 - accuracy: 0.5000\n",
      "Epoch 4/30\n",
      "1/1 [==============================] - 0s 4ms/step - loss: 0.6940 - accuracy: 0.5000\n",
      "Epoch 5/30\n",
      "1/1 [==============================] - 0s 3ms/step - loss: 0.6921 - accuracy: 0.3333\n",
      "Epoch 6/30\n",
      "1/1 [==============================] - 0s 3ms/step - loss: 0.6902 - accuracy: 0.5000\n",
      "Epoch 7/30\n",
      "1/1 [==============================] - 0s 4ms/step - loss: 0.6883 - accuracy: 0.8333\n",
      "Epoch 8/30\n",
      "1/1 [==============================] - 0s 4ms/step - loss: 0.6864 - accuracy: 0.8333\n",
      "Epoch 9/30\n",
      "1/1 [==============================] - 0s 4ms/step - loss: 0.6844 - accuracy: 0.8333\n",
      "Epoch 10/30\n",
      "1/1 [==============================] - 0s 4ms/step - loss: 0.6825 - accuracy: 0.8333\n",
      "Epoch 11/30\n",
      "1/1 [==============================] - 0s 3ms/step - loss: 0.6806 - accuracy: 1.0000\n",
      "Epoch 12/30\n",
      "1/1 [==============================] - 0s 3ms/step - loss: 0.6787 - accuracy: 1.0000\n",
      "Epoch 13/30\n",
      "1/1 [==============================] - 0s 3ms/step - loss: 0.6768 - accuracy: 1.0000\n",
      "Epoch 14/30\n",
      "1/1 [==============================] - 0s 3ms/step - loss: 0.6748 - accuracy: 1.0000\n",
      "Epoch 15/30\n",
      "1/1 [==============================] - 0s 4ms/step - loss: 0.6729 - accuracy: 1.0000\n",
      "Epoch 16/30\n",
      "1/1 [==============================] - 0s 3ms/step - loss: 0.6710 - accuracy: 1.0000\n",
      "Epoch 17/30\n",
      "1/1 [==============================] - 0s 3ms/step - loss: 0.6690 - accuracy: 1.0000\n",
      "Epoch 18/30\n",
      "1/1 [==============================] - 0s 4ms/step - loss: 0.6671 - accuracy: 1.0000\n",
      "Epoch 19/30\n",
      "1/1 [==============================] - 0s 3ms/step - loss: 0.6651 - accuracy: 1.0000\n",
      "Epoch 20/30\n",
      "1/1 [==============================] - 0s 4ms/step - loss: 0.6632 - accuracy: 1.0000\n",
      "Epoch 21/30\n",
      "1/1 [==============================] - 0s 5ms/step - loss: 0.6612 - accuracy: 1.0000\n",
      "Epoch 22/30\n",
      "1/1 [==============================] - 0s 3ms/step - loss: 0.6592 - accuracy: 1.0000\n",
      "Epoch 23/30\n",
      "1/1 [==============================] - 0s 4ms/step - loss: 0.6572 - accuracy: 1.0000\n",
      "Epoch 24/30\n",
      "1/1 [==============================] - 0s 2ms/step - loss: 0.6552 - accuracy: 1.0000\n",
      "Epoch 25/30\n",
      "1/1 [==============================] - 0s 4ms/step - loss: 0.6532 - accuracy: 1.0000\n",
      "Epoch 26/30\n",
      "1/1 [==============================] - 0s 2ms/step - loss: 0.6512 - accuracy: 1.0000\n",
      "Epoch 27/30\n",
      "1/1 [==============================] - 0s 4ms/step - loss: 0.6491 - accuracy: 1.0000\n",
      "Epoch 28/30\n",
      "1/1 [==============================] - 0s 3ms/step - loss: 0.6471 - accuracy: 1.0000\n",
      "Epoch 29/30\n",
      "1/1 [==============================] - 0s 4ms/step - loss: 0.6450 - accuracy: 1.0000\n",
      "Epoch 30/30\n",
      "1/1 [==============================] - 0s 4ms/step - loss: 0.6429 - accuracy: 1.0000\n"
     ]
    },
    {
     "data": {
      "text/plain": [
       "<keras.callbacks.History at 0x22522fc08b0>"
      ]
     },
     "execution_count": 17,
     "metadata": {},
     "output_type": "execute_result"
    }
   ],
   "source": [
    "# fitting the model\n",
    "mymodel.fit(padded_sent,sent_labels,epochs=30)"
   ]
  },
  {
   "cell_type": "code",
   "execution_count": 19,
   "id": "75473a17",
   "metadata": {},
   "outputs": [
    {
     "name": "stdout",
     "output_type": "stream",
     "text": [
      "Accuracy: 100.000000\n"
     ]
    }
   ],
   "source": [
    "# Evaluate the model\n",
    "modelloss,modelaccuracy=mymodel.evaluate(padded_sent,sent_labels,verbose=0)\n",
    "print('Accuracy: %f'%(modelaccuracy*100))"
   ]
  },
  {
   "cell_type": "markdown",
   "id": "51c07755",
   "metadata": {},
   "source": [
    "### Prediction part"
   ]
  },
  {
   "cell_type": "code",
   "execution_count": 20,
   "id": "af713441",
   "metadata": {},
   "outputs": [],
   "source": [
    "mysent_to_predict =['how are you Swathi',\n",
    "                   'T am good']"
   ]
  },
  {
   "cell_type": "code",
   "execution_count": 22,
   "id": "4cf9b19b",
   "metadata": {},
   "outputs": [
    {
     "name": "stdout",
     "output_type": "stream",
     "text": [
      "[[2, 26, 6, 2], [17, 11, 5]]\n"
     ]
    }
   ],
   "source": [
    "# integer encoding of the documents\n",
    "vocab_size=30\n",
    "encoded=[one_hot(d,vocab_size)for d in mysent_to_predict]\n",
    "print(encoded)"
   ]
  },
  {
   "cell_type": "code",
   "execution_count": 23,
   "id": "3da4e25f",
   "metadata": {},
   "outputs": [
    {
     "name": "stdout",
     "output_type": "stream",
     "text": [
      "[[ 0  2 26  6  2]\n",
      " [ 0  0 17 11  5]]\n"
     ]
    }
   ],
   "source": [
    "# padding the documents to a maximum length of 5 words\n",
    "max_length=5\n",
    "mypadded=pad_sequences(encoded, maxlen=length,padding='pre')\n",
    "print(mypadded)"
   ]
  },
  {
   "cell_type": "code",
   "execution_count": 25,
   "id": "6cd6549e",
   "metadata": {},
   "outputs": [
    {
     "data": {
      "text/plain": [
       "array([[1],\n",
       "       [0]])"
      ]
     },
     "execution_count": 25,
     "metadata": {},
     "output_type": "execute_result"
    }
   ],
   "source": [
    "mymodel.predict_classes(mypadded)"
   ]
  },
  {
   "cell_type": "code",
   "execution_count": null,
   "id": "54f05744",
   "metadata": {},
   "outputs": [],
   "source": []
  }
 ],
 "metadata": {
  "kernelspec": {
   "display_name": "Python 3",
   "language": "python",
   "name": "python3"
  },
  "language_info": {
   "codemirror_mode": {
    "name": "ipython",
    "version": 3
   },
   "file_extension": ".py",
   "mimetype": "text/x-python",
   "name": "python",
   "nbconvert_exporter": "python",
   "pygments_lexer": "ipython3",
   "version": "3.8.8"
  }
 },
 "nbformat": 4,
 "nbformat_minor": 5
}
