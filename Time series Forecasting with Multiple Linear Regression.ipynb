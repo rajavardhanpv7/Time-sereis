{
 "cells": [
  {
   "cell_type": "code",
   "execution_count": 1,
   "id": "b2826369",
   "metadata": {},
   "outputs": [],
   "source": [
    "import pandas as pd\n",
    "import numpy as np\n",
    "import statsmodels.api as sm"
   ]
  },
  {
   "cell_type": "code",
   "execution_count": 2,
   "id": "de21d627",
   "metadata": {},
   "outputs": [],
   "source": [
    "ts_data=pd.read_csv(r'C:\\Users\\Rajavardhan\\OneDrive\\Documents\\TimesreisMultiple.csv')"
   ]
  },
  {
   "cell_type": "code",
   "execution_count": 3,
   "id": "2f184df9",
   "metadata": {},
   "outputs": [
    {
     "data": {
      "text/plain": [
       "<bound method NDFrame.head of     Year  Quarter    Ysales\n",
       "0   2009        1   50147.0\n",
       "1   2009        2   49325.0\n",
       "2   2009        3   57048.0\n",
       "3   2009        4   76781.0\n",
       "4   2010        1   48617.0\n",
       "5   2010        2   50898.0\n",
       "6   2010        3   58517.0\n",
       "7   2010        4   77691.0\n",
       "8   2011        1   50862.0\n",
       "9   2011        2   53028.0\n",
       "10  2011        3   58849.0\n",
       "11  2011        4   79660.0\n",
       "12  2012        1   51640.0\n",
       "13  2012        2   54119.0\n",
       "14  2012        3   65681.0\n",
       "15  2012        4   85175.0\n",
       "16  2013        1   56405.0\n",
       "17  2013        2   60031.0\n",
       "18  2013        3   71486.0\n",
       "19  2013        4   92183.0\n",
       "20  2014        1   60800.0\n",
       "21  2014        2   64900.0\n",
       "22  2014        3   76997.0\n",
       "23  2014        4  103337.0\n",
       "24  2015        1       NaN\n",
       "25  2015        2       NaN\n",
       "26  2015        3       NaN\n",
       "27  2015        4       NaN>"
      ]
     },
     "execution_count": 3,
     "metadata": {},
     "output_type": "execute_result"
    }
   ],
   "source": [
    "ts_data.head"
   ]
  },
  {
   "cell_type": "code",
   "execution_count": 4,
   "id": "b0459e90",
   "metadata": {},
   "outputs": [
    {
     "data": {
      "text/plain": [
       "Year         int64\n",
       "Quarter      int64\n",
       "Ysales     float64\n",
       "dtype: object"
      ]
     },
     "execution_count": 4,
     "metadata": {},
     "output_type": "execute_result"
    }
   ],
   "source": [
    "ts_data.dtypes"
   ]
  },
  {
   "cell_type": "code",
   "execution_count": 5,
   "id": "d557ff6b",
   "metadata": {},
   "outputs": [],
   "source": [
    "ts_data['t_Qtr']=ts_data.index+1\n",
    "ts_data['t_Qtr2']=ts_data['t_Qtr']**2\n",
    "ts_data['t_Qtr3']=ts_data['t_Qtr']**3\n"
   ]
  },
  {
   "cell_type": "code",
   "execution_count": 6,
   "id": "cebdbaba",
   "metadata": {},
   "outputs": [
    {
     "data": {
      "text/html": [
       "<div>\n",
       "<style scoped>\n",
       "    .dataframe tbody tr th:only-of-type {\n",
       "        vertical-align: middle;\n",
       "    }\n",
       "\n",
       "    .dataframe tbody tr th {\n",
       "        vertical-align: top;\n",
       "    }\n",
       "\n",
       "    .dataframe thead th {\n",
       "        text-align: right;\n",
       "    }\n",
       "</style>\n",
       "<table border=\"1\" class=\"dataframe\">\n",
       "  <thead>\n",
       "    <tr style=\"text-align: right;\">\n",
       "      <th></th>\n",
       "      <th>Year</th>\n",
       "      <th>Quarter</th>\n",
       "      <th>Ysales</th>\n",
       "      <th>t_Qtr</th>\n",
       "      <th>t_Qtr2</th>\n",
       "      <th>t_Qtr3</th>\n",
       "    </tr>\n",
       "  </thead>\n",
       "  <tbody>\n",
       "    <tr>\n",
       "      <th>0</th>\n",
       "      <td>2009</td>\n",
       "      <td>1</td>\n",
       "      <td>50147.0</td>\n",
       "      <td>1</td>\n",
       "      <td>1</td>\n",
       "      <td>1</td>\n",
       "    </tr>\n",
       "    <tr>\n",
       "      <th>1</th>\n",
       "      <td>2009</td>\n",
       "      <td>2</td>\n",
       "      <td>49325.0</td>\n",
       "      <td>2</td>\n",
       "      <td>4</td>\n",
       "      <td>8</td>\n",
       "    </tr>\n",
       "    <tr>\n",
       "      <th>2</th>\n",
       "      <td>2009</td>\n",
       "      <td>3</td>\n",
       "      <td>57048.0</td>\n",
       "      <td>3</td>\n",
       "      <td>9</td>\n",
       "      <td>27</td>\n",
       "    </tr>\n",
       "    <tr>\n",
       "      <th>3</th>\n",
       "      <td>2009</td>\n",
       "      <td>4</td>\n",
       "      <td>76781.0</td>\n",
       "      <td>4</td>\n",
       "      <td>16</td>\n",
       "      <td>64</td>\n",
       "    </tr>\n",
       "    <tr>\n",
       "      <th>4</th>\n",
       "      <td>2010</td>\n",
       "      <td>1</td>\n",
       "      <td>48617.0</td>\n",
       "      <td>5</td>\n",
       "      <td>25</td>\n",
       "      <td>125</td>\n",
       "    </tr>\n",
       "  </tbody>\n",
       "</table>\n",
       "</div>"
      ],
      "text/plain": [
       "   Year  Quarter   Ysales  t_Qtr  t_Qtr2  t_Qtr3\n",
       "0  2009        1  50147.0      1       1       1\n",
       "1  2009        2  49325.0      2       4       8\n",
       "2  2009        3  57048.0      3       9      27\n",
       "3  2009        4  76781.0      4      16      64\n",
       "4  2010        1  48617.0      5      25     125"
      ]
     },
     "execution_count": 6,
     "metadata": {},
     "output_type": "execute_result"
    }
   ],
   "source": [
    "ts_data.head()"
   ]
  },
  {
   "cell_type": "code",
   "execution_count": 7,
   "id": "a95b04ba",
   "metadata": {},
   "outputs": [
    {
     "data": {
      "text/plain": [
       "RangeIndex(start=0, stop=28, step=1)"
      ]
     },
     "execution_count": 7,
     "metadata": {},
     "output_type": "execute_result"
    }
   ],
   "source": [
    "ts_data.index"
   ]
  },
  {
   "cell_type": "code",
   "execution_count": 8,
   "id": "9090e562",
   "metadata": {},
   "outputs": [
    {
     "data": {
      "text/plain": [
       "Index(['Year', 'Quarter', 'Ysales', 't_Qtr', 't_Qtr2', 't_Qtr3'], dtype='object')"
      ]
     },
     "execution_count": 8,
     "metadata": {},
     "output_type": "execute_result"
    }
   ],
   "source": [
    "ts_data.columns"
   ]
  },
  {
   "cell_type": "code",
   "execution_count": 9,
   "id": "83674ef9",
   "metadata": {},
   "outputs": [
    {
     "data": {
      "text/plain": [
       "Year         int64\n",
       "Quarter      int64\n",
       "Ysales     float64\n",
       "t_Qtr        int64\n",
       "t_Qtr2       int64\n",
       "t_Qtr3       int64\n",
       "dtype: object"
      ]
     },
     "execution_count": 9,
     "metadata": {},
     "output_type": "execute_result"
    }
   ],
   "source": [
    "ts_data.dtypes"
   ]
  },
  {
   "cell_type": "code",
   "execution_count": 10,
   "id": "93c3840e",
   "metadata": {},
   "outputs": [
    {
     "data": {
      "text/plain": [
       "<bound method NDFrame.head of     Year  Quarter    Ysales  t_Qtr  t_Qtr2  t_Qtr3 Qtr\n",
       "0   2009        1   50147.0      1       1       1   1\n",
       "1   2009        2   49325.0      2       4       8   2\n",
       "2   2009        3   57048.0      3       9      27   3\n",
       "3   2009        4   76781.0      4      16      64   4\n",
       "4   2010        1   48617.0      5      25     125   1\n",
       "5   2010        2   50898.0      6      36     216   2\n",
       "6   2010        3   58517.0      7      49     343   3\n",
       "7   2010        4   77691.0      8      64     512   4\n",
       "8   2011        1   50862.0      9      81     729   1\n",
       "9   2011        2   53028.0     10     100    1000   2\n",
       "10  2011        3   58849.0     11     121    1331   3\n",
       "11  2011        4   79660.0     12     144    1728   4\n",
       "12  2012        1   51640.0     13     169    2197   1\n",
       "13  2012        2   54119.0     14     196    2744   2\n",
       "14  2012        3   65681.0     15     225    3375   3\n",
       "15  2012        4   85175.0     16     256    4096   4\n",
       "16  2013        1   56405.0     17     289    4913   1\n",
       "17  2013        2   60031.0     18     324    5832   2\n",
       "18  2013        3   71486.0     19     361    6859   3\n",
       "19  2013        4   92183.0     20     400    8000   4\n",
       "20  2014        1   60800.0     21     441    9261   1\n",
       "21  2014        2   64900.0     22     484   10648   2\n",
       "22  2014        3   76997.0     23     529   12167   3\n",
       "23  2014        4  103337.0     24     576   13824   4\n",
       "24  2015        1       NaN     25     625   15625   1\n",
       "25  2015        2       NaN     26     676   17576   2\n",
       "26  2015        3       NaN     27     729   19683   3\n",
       "27  2015        4       NaN     28     784   21952   4>"
      ]
     },
     "execution_count": 10,
     "metadata": {},
     "output_type": "execute_result"
    }
   ],
   "source": [
    "# Quarter is an integer, we want to make it a string and append it to 'Qtr'\n",
    "ts_data['Qtr']=ts_data['Quarter'].astype(str)\n",
    "ts_data.head"
   ]
  },
  {
   "cell_type": "code",
   "execution_count": 11,
   "id": "9958317b",
   "metadata": {},
   "outputs": [],
   "source": [
    "ts_data=pd.get_dummies(ts_data,prefix=['Qtr'],columns=['Qtr'],drop_first=True)"
   ]
  },
  {
   "cell_type": "code",
   "execution_count": 12,
   "id": "8d889c2d",
   "metadata": {},
   "outputs": [
    {
     "data": {
      "text/html": [
       "<div>\n",
       "<style scoped>\n",
       "    .dataframe tbody tr th:only-of-type {\n",
       "        vertical-align: middle;\n",
       "    }\n",
       "\n",
       "    .dataframe tbody tr th {\n",
       "        vertical-align: top;\n",
       "    }\n",
       "\n",
       "    .dataframe thead th {\n",
       "        text-align: right;\n",
       "    }\n",
       "</style>\n",
       "<table border=\"1\" class=\"dataframe\">\n",
       "  <thead>\n",
       "    <tr style=\"text-align: right;\">\n",
       "      <th></th>\n",
       "      <th>Year</th>\n",
       "      <th>Quarter</th>\n",
       "      <th>Ysales</th>\n",
       "      <th>t_Qtr</th>\n",
       "      <th>t_Qtr2</th>\n",
       "      <th>t_Qtr3</th>\n",
       "      <th>Qtr_2</th>\n",
       "      <th>Qtr_3</th>\n",
       "      <th>Qtr_4</th>\n",
       "    </tr>\n",
       "  </thead>\n",
       "  <tbody>\n",
       "    <tr>\n",
       "      <th>0</th>\n",
       "      <td>2009</td>\n",
       "      <td>1</td>\n",
       "      <td>50147.0</td>\n",
       "      <td>1</td>\n",
       "      <td>1</td>\n",
       "      <td>1</td>\n",
       "      <td>0</td>\n",
       "      <td>0</td>\n",
       "      <td>0</td>\n",
       "    </tr>\n",
       "    <tr>\n",
       "      <th>1</th>\n",
       "      <td>2009</td>\n",
       "      <td>2</td>\n",
       "      <td>49325.0</td>\n",
       "      <td>2</td>\n",
       "      <td>4</td>\n",
       "      <td>8</td>\n",
       "      <td>1</td>\n",
       "      <td>0</td>\n",
       "      <td>0</td>\n",
       "    </tr>\n",
       "    <tr>\n",
       "      <th>2</th>\n",
       "      <td>2009</td>\n",
       "      <td>3</td>\n",
       "      <td>57048.0</td>\n",
       "      <td>3</td>\n",
       "      <td>9</td>\n",
       "      <td>27</td>\n",
       "      <td>0</td>\n",
       "      <td>1</td>\n",
       "      <td>0</td>\n",
       "    </tr>\n",
       "    <tr>\n",
       "      <th>3</th>\n",
       "      <td>2009</td>\n",
       "      <td>4</td>\n",
       "      <td>76781.0</td>\n",
       "      <td>4</td>\n",
       "      <td>16</td>\n",
       "      <td>64</td>\n",
       "      <td>0</td>\n",
       "      <td>0</td>\n",
       "      <td>1</td>\n",
       "    </tr>\n",
       "    <tr>\n",
       "      <th>4</th>\n",
       "      <td>2010</td>\n",
       "      <td>1</td>\n",
       "      <td>48617.0</td>\n",
       "      <td>5</td>\n",
       "      <td>25</td>\n",
       "      <td>125</td>\n",
       "      <td>0</td>\n",
       "      <td>0</td>\n",
       "      <td>0</td>\n",
       "    </tr>\n",
       "  </tbody>\n",
       "</table>\n",
       "</div>"
      ],
      "text/plain": [
       "   Year  Quarter   Ysales  t_Qtr  t_Qtr2  t_Qtr3  Qtr_2  Qtr_3  Qtr_4\n",
       "0  2009        1  50147.0      1       1       1      0      0      0\n",
       "1  2009        2  49325.0      2       4       8      1      0      0\n",
       "2  2009        3  57048.0      3       9      27      0      1      0\n",
       "3  2009        4  76781.0      4      16      64      0      0      1\n",
       "4  2010        1  48617.0      5      25     125      0      0      0"
      ]
     },
     "execution_count": 12,
     "metadata": {},
     "output_type": "execute_result"
    }
   ],
   "source": [
    "ts_data.head()"
   ]
  },
  {
   "cell_type": "code",
   "execution_count": 13,
   "id": "36aecd76",
   "metadata": {},
   "outputs": [],
   "source": [
    "ts_data=ts_data.drop(columns=['Year','Quarter'])"
   ]
  },
  {
   "cell_type": "code",
   "execution_count": 14,
   "id": "d3caa57b",
   "metadata": {},
   "outputs": [
    {
     "data": {
      "text/html": [
       "<div>\n",
       "<style scoped>\n",
       "    .dataframe tbody tr th:only-of-type {\n",
       "        vertical-align: middle;\n",
       "    }\n",
       "\n",
       "    .dataframe tbody tr th {\n",
       "        vertical-align: top;\n",
       "    }\n",
       "\n",
       "    .dataframe thead th {\n",
       "        text-align: right;\n",
       "    }\n",
       "</style>\n",
       "<table border=\"1\" class=\"dataframe\">\n",
       "  <thead>\n",
       "    <tr style=\"text-align: right;\">\n",
       "      <th></th>\n",
       "      <th>Ysales</th>\n",
       "      <th>t_Qtr</th>\n",
       "      <th>t_Qtr2</th>\n",
       "      <th>t_Qtr3</th>\n",
       "      <th>Qtr_2</th>\n",
       "      <th>Qtr_3</th>\n",
       "      <th>Qtr_4</th>\n",
       "    </tr>\n",
       "  </thead>\n",
       "  <tbody>\n",
       "    <tr>\n",
       "      <th>0</th>\n",
       "      <td>50147.0</td>\n",
       "      <td>1</td>\n",
       "      <td>1</td>\n",
       "      <td>1</td>\n",
       "      <td>0</td>\n",
       "      <td>0</td>\n",
       "      <td>0</td>\n",
       "    </tr>\n",
       "    <tr>\n",
       "      <th>1</th>\n",
       "      <td>49325.0</td>\n",
       "      <td>2</td>\n",
       "      <td>4</td>\n",
       "      <td>8</td>\n",
       "      <td>1</td>\n",
       "      <td>0</td>\n",
       "      <td>0</td>\n",
       "    </tr>\n",
       "    <tr>\n",
       "      <th>2</th>\n",
       "      <td>57048.0</td>\n",
       "      <td>3</td>\n",
       "      <td>9</td>\n",
       "      <td>27</td>\n",
       "      <td>0</td>\n",
       "      <td>1</td>\n",
       "      <td>0</td>\n",
       "    </tr>\n",
       "    <tr>\n",
       "      <th>3</th>\n",
       "      <td>76781.0</td>\n",
       "      <td>4</td>\n",
       "      <td>16</td>\n",
       "      <td>64</td>\n",
       "      <td>0</td>\n",
       "      <td>0</td>\n",
       "      <td>1</td>\n",
       "    </tr>\n",
       "    <tr>\n",
       "      <th>4</th>\n",
       "      <td>48617.0</td>\n",
       "      <td>5</td>\n",
       "      <td>25</td>\n",
       "      <td>125</td>\n",
       "      <td>0</td>\n",
       "      <td>0</td>\n",
       "      <td>0</td>\n",
       "    </tr>\n",
       "  </tbody>\n",
       "</table>\n",
       "</div>"
      ],
      "text/plain": [
       "    Ysales  t_Qtr  t_Qtr2  t_Qtr3  Qtr_2  Qtr_3  Qtr_4\n",
       "0  50147.0      1       1       1      0      0      0\n",
       "1  49325.0      2       4       8      1      0      0\n",
       "2  57048.0      3       9      27      0      1      0\n",
       "3  76781.0      4      16      64      0      0      1\n",
       "4  48617.0      5      25     125      0      0      0"
      ]
     },
     "execution_count": 14,
     "metadata": {},
     "output_type": "execute_result"
    }
   ],
   "source": [
    "ts_data.head()"
   ]
  },
  {
   "cell_type": "markdown",
   "id": "2bb46cee",
   "metadata": {},
   "source": [
    "### Step 2: Partition of the Data"
   ]
  },
  {
   "cell_type": "code",
   "execution_count": 15,
   "id": "fa2265e2",
   "metadata": {},
   "outputs": [],
   "source": [
    "training=ts_data.loc[0:19]\n",
    "validation=ts_data.loc[20:23]\n",
    "trainplusvalid=ts_data.loc[0:23]\n",
    "forecast=ts_data.loc[24:28]"
   ]
  },
  {
   "cell_type": "code",
   "execution_count": 16,
   "id": "0e03d032",
   "metadata": {},
   "outputs": [
    {
     "data": {
      "text/html": [
       "<div>\n",
       "<style scoped>\n",
       "    .dataframe tbody tr th:only-of-type {\n",
       "        vertical-align: middle;\n",
       "    }\n",
       "\n",
       "    .dataframe tbody tr th {\n",
       "        vertical-align: top;\n",
       "    }\n",
       "\n",
       "    .dataframe thead th {\n",
       "        text-align: right;\n",
       "    }\n",
       "</style>\n",
       "<table border=\"1\" class=\"dataframe\">\n",
       "  <thead>\n",
       "    <tr style=\"text-align: right;\">\n",
       "      <th></th>\n",
       "      <th>Ysales</th>\n",
       "      <th>t_Qtr</th>\n",
       "      <th>t_Qtr2</th>\n",
       "      <th>t_Qtr3</th>\n",
       "      <th>Qtr_2</th>\n",
       "      <th>Qtr_3</th>\n",
       "      <th>Qtr_4</th>\n",
       "    </tr>\n",
       "  </thead>\n",
       "  <tbody>\n",
       "    <tr>\n",
       "      <th>20</th>\n",
       "      <td>60800.0</td>\n",
       "      <td>21</td>\n",
       "      <td>441</td>\n",
       "      <td>9261</td>\n",
       "      <td>0</td>\n",
       "      <td>0</td>\n",
       "      <td>0</td>\n",
       "    </tr>\n",
       "    <tr>\n",
       "      <th>21</th>\n",
       "      <td>64900.0</td>\n",
       "      <td>22</td>\n",
       "      <td>484</td>\n",
       "      <td>10648</td>\n",
       "      <td>1</td>\n",
       "      <td>0</td>\n",
       "      <td>0</td>\n",
       "    </tr>\n",
       "    <tr>\n",
       "      <th>22</th>\n",
       "      <td>76997.0</td>\n",
       "      <td>23</td>\n",
       "      <td>529</td>\n",
       "      <td>12167</td>\n",
       "      <td>0</td>\n",
       "      <td>1</td>\n",
       "      <td>0</td>\n",
       "    </tr>\n",
       "    <tr>\n",
       "      <th>23</th>\n",
       "      <td>103337.0</td>\n",
       "      <td>24</td>\n",
       "      <td>576</td>\n",
       "      <td>13824</td>\n",
       "      <td>0</td>\n",
       "      <td>0</td>\n",
       "      <td>1</td>\n",
       "    </tr>\n",
       "  </tbody>\n",
       "</table>\n",
       "</div>"
      ],
      "text/plain": [
       "      Ysales  t_Qtr  t_Qtr2  t_Qtr3  Qtr_2  Qtr_3  Qtr_4\n",
       "20   60800.0     21     441    9261      0      0      0\n",
       "21   64900.0     22     484   10648      1      0      0\n",
       "22   76997.0     23     529   12167      0      1      0\n",
       "23  103337.0     24     576   13824      0      0      1"
      ]
     },
     "execution_count": 16,
     "metadata": {},
     "output_type": "execute_result"
    }
   ],
   "source": [
    "validation"
   ]
  },
  {
   "cell_type": "code",
   "execution_count": 17,
   "id": "accbb03f",
   "metadata": {},
   "outputs": [
    {
     "data": {
      "text/html": [
       "<div>\n",
       "<style scoped>\n",
       "    .dataframe tbody tr th:only-of-type {\n",
       "        vertical-align: middle;\n",
       "    }\n",
       "\n",
       "    .dataframe tbody tr th {\n",
       "        vertical-align: top;\n",
       "    }\n",
       "\n",
       "    .dataframe thead th {\n",
       "        text-align: right;\n",
       "    }\n",
       "</style>\n",
       "<table border=\"1\" class=\"dataframe\">\n",
       "  <thead>\n",
       "    <tr style=\"text-align: right;\">\n",
       "      <th></th>\n",
       "      <th>Ysales</th>\n",
       "      <th>t_Qtr</th>\n",
       "      <th>t_Qtr2</th>\n",
       "      <th>t_Qtr3</th>\n",
       "      <th>Qtr_2</th>\n",
       "      <th>Qtr_3</th>\n",
       "      <th>Qtr_4</th>\n",
       "    </tr>\n",
       "  </thead>\n",
       "  <tbody>\n",
       "    <tr>\n",
       "      <th>24</th>\n",
       "      <td>NaN</td>\n",
       "      <td>25</td>\n",
       "      <td>625</td>\n",
       "      <td>15625</td>\n",
       "      <td>0</td>\n",
       "      <td>0</td>\n",
       "      <td>0</td>\n",
       "    </tr>\n",
       "    <tr>\n",
       "      <th>25</th>\n",
       "      <td>NaN</td>\n",
       "      <td>26</td>\n",
       "      <td>676</td>\n",
       "      <td>17576</td>\n",
       "      <td>1</td>\n",
       "      <td>0</td>\n",
       "      <td>0</td>\n",
       "    </tr>\n",
       "    <tr>\n",
       "      <th>26</th>\n",
       "      <td>NaN</td>\n",
       "      <td>27</td>\n",
       "      <td>729</td>\n",
       "      <td>19683</td>\n",
       "      <td>0</td>\n",
       "      <td>1</td>\n",
       "      <td>0</td>\n",
       "    </tr>\n",
       "    <tr>\n",
       "      <th>27</th>\n",
       "      <td>NaN</td>\n",
       "      <td>28</td>\n",
       "      <td>784</td>\n",
       "      <td>21952</td>\n",
       "      <td>0</td>\n",
       "      <td>0</td>\n",
       "      <td>1</td>\n",
       "    </tr>\n",
       "  </tbody>\n",
       "</table>\n",
       "</div>"
      ],
      "text/plain": [
       "    Ysales  t_Qtr  t_Qtr2  t_Qtr3  Qtr_2  Qtr_3  Qtr_4\n",
       "24     NaN     25     625   15625      0      0      0\n",
       "25     NaN     26     676   17576      1      0      0\n",
       "26     NaN     27     729   19683      0      1      0\n",
       "27     NaN     28     784   21952      0      0      1"
      ]
     },
     "execution_count": 17,
     "metadata": {},
     "output_type": "execute_result"
    }
   ],
   "source": [
    "forecast"
   ]
  },
  {
   "cell_type": "code",
   "execution_count": 18,
   "id": "e95db236",
   "metadata": {},
   "outputs": [],
   "source": [
    "y_train=training['Ysales']\n",
    "x_train=training.drop(columns=['Ysales'])\n",
    "\n",
    "y_valid=validation['Ysales']\n",
    "x_valid=validation.drop(columns=['Ysales'])\n",
    "\n",
    "y_trainplusvalid=trainplusvalid['Ysales']\n",
    "x_trainplusvalid=trainplusvalid.drop(columns=['Ysales'])\n",
    "\n",
    "x_forecast=forecast.drop(columns=['Ysales'])\n",
    "\n"
   ]
  },
  {
   "cell_type": "markdown",
   "id": "49d2d94f",
   "metadata": {},
   "source": [
    "### Step 3 Discover combination of input variables which creates the best Modl"
   ]
  },
  {
   "cell_type": "code",
   "execution_count": 19,
   "id": "3e08457b",
   "metadata": {},
   "outputs": [],
   "source": [
    "from sklearn.linear_model import LinearRegression"
   ]
  },
  {
   "cell_type": "code",
   "execution_count": 20,
   "id": "7ae9eaab",
   "metadata": {},
   "outputs": [],
   "source": [
    "mlr=LinearRegression()\n",
    "mlr.fit(x_train, y_train)"
   ]
  },
  {
   "cell_type": "code",
   "execution_count": 21,
   "id": "63fc7c9e",
   "metadata": {},
   "outputs": [
    {
     "data": {
      "text/plain": [
       "LinearRegression()"
      ]
     },
     "execution_count": 21,
     "metadata": {},
     "output_type": "execute_result"
    }
   ],
   "source": [
    "mlr.fit(x_train, y_train)"
   ]
  },
  {
   "cell_type": "code",
   "execution_count": 22,
   "id": "f6053472",
   "metadata": {},
   "outputs": [],
   "source": [
    "# Add a constant column to the training data so that our model will produce an estimate of regression coefficient  for the intercept.\n",
    "x2=sm.add_constant(x_train)"
   ]
  },
  {
   "cell_type": "code",
   "execution_count": 23,
   "id": "3617ff27",
   "metadata": {},
   "outputs": [
    {
     "data": {
      "text/html": [
       "<div>\n",
       "<style scoped>\n",
       "    .dataframe tbody tr th:only-of-type {\n",
       "        vertical-align: middle;\n",
       "    }\n",
       "\n",
       "    .dataframe tbody tr th {\n",
       "        vertical-align: top;\n",
       "    }\n",
       "\n",
       "    .dataframe thead th {\n",
       "        text-align: right;\n",
       "    }\n",
       "</style>\n",
       "<table border=\"1\" class=\"dataframe\">\n",
       "  <thead>\n",
       "    <tr style=\"text-align: right;\">\n",
       "      <th></th>\n",
       "      <th>const</th>\n",
       "      <th>t_Qtr</th>\n",
       "      <th>t_Qtr2</th>\n",
       "      <th>t_Qtr3</th>\n",
       "      <th>Qtr_2</th>\n",
       "      <th>Qtr_3</th>\n",
       "      <th>Qtr_4</th>\n",
       "    </tr>\n",
       "  </thead>\n",
       "  <tbody>\n",
       "    <tr>\n",
       "      <th>0</th>\n",
       "      <td>1.0</td>\n",
       "      <td>1</td>\n",
       "      <td>1</td>\n",
       "      <td>1</td>\n",
       "      <td>0</td>\n",
       "      <td>0</td>\n",
       "      <td>0</td>\n",
       "    </tr>\n",
       "    <tr>\n",
       "      <th>1</th>\n",
       "      <td>1.0</td>\n",
       "      <td>2</td>\n",
       "      <td>4</td>\n",
       "      <td>8</td>\n",
       "      <td>1</td>\n",
       "      <td>0</td>\n",
       "      <td>0</td>\n",
       "    </tr>\n",
       "    <tr>\n",
       "      <th>2</th>\n",
       "      <td>1.0</td>\n",
       "      <td>3</td>\n",
       "      <td>9</td>\n",
       "      <td>27</td>\n",
       "      <td>0</td>\n",
       "      <td>1</td>\n",
       "      <td>0</td>\n",
       "    </tr>\n",
       "    <tr>\n",
       "      <th>3</th>\n",
       "      <td>1.0</td>\n",
       "      <td>4</td>\n",
       "      <td>16</td>\n",
       "      <td>64</td>\n",
       "      <td>0</td>\n",
       "      <td>0</td>\n",
       "      <td>1</td>\n",
       "    </tr>\n",
       "    <tr>\n",
       "      <th>4</th>\n",
       "      <td>1.0</td>\n",
       "      <td>5</td>\n",
       "      <td>25</td>\n",
       "      <td>125</td>\n",
       "      <td>0</td>\n",
       "      <td>0</td>\n",
       "      <td>0</td>\n",
       "    </tr>\n",
       "    <tr>\n",
       "      <th>5</th>\n",
       "      <td>1.0</td>\n",
       "      <td>6</td>\n",
       "      <td>36</td>\n",
       "      <td>216</td>\n",
       "      <td>1</td>\n",
       "      <td>0</td>\n",
       "      <td>0</td>\n",
       "    </tr>\n",
       "    <tr>\n",
       "      <th>6</th>\n",
       "      <td>1.0</td>\n",
       "      <td>7</td>\n",
       "      <td>49</td>\n",
       "      <td>343</td>\n",
       "      <td>0</td>\n",
       "      <td>1</td>\n",
       "      <td>0</td>\n",
       "    </tr>\n",
       "    <tr>\n",
       "      <th>7</th>\n",
       "      <td>1.0</td>\n",
       "      <td>8</td>\n",
       "      <td>64</td>\n",
       "      <td>512</td>\n",
       "      <td>0</td>\n",
       "      <td>0</td>\n",
       "      <td>1</td>\n",
       "    </tr>\n",
       "    <tr>\n",
       "      <th>8</th>\n",
       "      <td>1.0</td>\n",
       "      <td>9</td>\n",
       "      <td>81</td>\n",
       "      <td>729</td>\n",
       "      <td>0</td>\n",
       "      <td>0</td>\n",
       "      <td>0</td>\n",
       "    </tr>\n",
       "    <tr>\n",
       "      <th>9</th>\n",
       "      <td>1.0</td>\n",
       "      <td>10</td>\n",
       "      <td>100</td>\n",
       "      <td>1000</td>\n",
       "      <td>1</td>\n",
       "      <td>0</td>\n",
       "      <td>0</td>\n",
       "    </tr>\n",
       "    <tr>\n",
       "      <th>10</th>\n",
       "      <td>1.0</td>\n",
       "      <td>11</td>\n",
       "      <td>121</td>\n",
       "      <td>1331</td>\n",
       "      <td>0</td>\n",
       "      <td>1</td>\n",
       "      <td>0</td>\n",
       "    </tr>\n",
       "    <tr>\n",
       "      <th>11</th>\n",
       "      <td>1.0</td>\n",
       "      <td>12</td>\n",
       "      <td>144</td>\n",
       "      <td>1728</td>\n",
       "      <td>0</td>\n",
       "      <td>0</td>\n",
       "      <td>1</td>\n",
       "    </tr>\n",
       "    <tr>\n",
       "      <th>12</th>\n",
       "      <td>1.0</td>\n",
       "      <td>13</td>\n",
       "      <td>169</td>\n",
       "      <td>2197</td>\n",
       "      <td>0</td>\n",
       "      <td>0</td>\n",
       "      <td>0</td>\n",
       "    </tr>\n",
       "    <tr>\n",
       "      <th>13</th>\n",
       "      <td>1.0</td>\n",
       "      <td>14</td>\n",
       "      <td>196</td>\n",
       "      <td>2744</td>\n",
       "      <td>1</td>\n",
       "      <td>0</td>\n",
       "      <td>0</td>\n",
       "    </tr>\n",
       "    <tr>\n",
       "      <th>14</th>\n",
       "      <td>1.0</td>\n",
       "      <td>15</td>\n",
       "      <td>225</td>\n",
       "      <td>3375</td>\n",
       "      <td>0</td>\n",
       "      <td>1</td>\n",
       "      <td>0</td>\n",
       "    </tr>\n",
       "    <tr>\n",
       "      <th>15</th>\n",
       "      <td>1.0</td>\n",
       "      <td>16</td>\n",
       "      <td>256</td>\n",
       "      <td>4096</td>\n",
       "      <td>0</td>\n",
       "      <td>0</td>\n",
       "      <td>1</td>\n",
       "    </tr>\n",
       "    <tr>\n",
       "      <th>16</th>\n",
       "      <td>1.0</td>\n",
       "      <td>17</td>\n",
       "      <td>289</td>\n",
       "      <td>4913</td>\n",
       "      <td>0</td>\n",
       "      <td>0</td>\n",
       "      <td>0</td>\n",
       "    </tr>\n",
       "    <tr>\n",
       "      <th>17</th>\n",
       "      <td>1.0</td>\n",
       "      <td>18</td>\n",
       "      <td>324</td>\n",
       "      <td>5832</td>\n",
       "      <td>1</td>\n",
       "      <td>0</td>\n",
       "      <td>0</td>\n",
       "    </tr>\n",
       "    <tr>\n",
       "      <th>18</th>\n",
       "      <td>1.0</td>\n",
       "      <td>19</td>\n",
       "      <td>361</td>\n",
       "      <td>6859</td>\n",
       "      <td>0</td>\n",
       "      <td>1</td>\n",
       "      <td>0</td>\n",
       "    </tr>\n",
       "    <tr>\n",
       "      <th>19</th>\n",
       "      <td>1.0</td>\n",
       "      <td>20</td>\n",
       "      <td>400</td>\n",
       "      <td>8000</td>\n",
       "      <td>0</td>\n",
       "      <td>0</td>\n",
       "      <td>1</td>\n",
       "    </tr>\n",
       "  </tbody>\n",
       "</table>\n",
       "</div>"
      ],
      "text/plain": [
       "    const  t_Qtr  t_Qtr2  t_Qtr3  Qtr_2  Qtr_3  Qtr_4\n",
       "0     1.0      1       1       1      0      0      0\n",
       "1     1.0      2       4       8      1      0      0\n",
       "2     1.0      3       9      27      0      1      0\n",
       "3     1.0      4      16      64      0      0      1\n",
       "4     1.0      5      25     125      0      0      0\n",
       "5     1.0      6      36     216      1      0      0\n",
       "6     1.0      7      49     343      0      1      0\n",
       "7     1.0      8      64     512      0      0      1\n",
       "8     1.0      9      81     729      0      0      0\n",
       "9     1.0     10     100    1000      1      0      0\n",
       "10    1.0     11     121    1331      0      1      0\n",
       "11    1.0     12     144    1728      0      0      1\n",
       "12    1.0     13     169    2197      0      0      0\n",
       "13    1.0     14     196    2744      1      0      0\n",
       "14    1.0     15     225    3375      0      1      0\n",
       "15    1.0     16     256    4096      0      0      1\n",
       "16    1.0     17     289    4913      0      0      0\n",
       "17    1.0     18     324    5832      1      0      0\n",
       "18    1.0     19     361    6859      0      1      0\n",
       "19    1.0     20     400    8000      0      0      1"
      ]
     },
     "execution_count": 23,
     "metadata": {},
     "output_type": "execute_result"
    }
   ],
   "source": [
    "x2"
   ]
  },
  {
   "cell_type": "code",
   "execution_count": 24,
   "id": "0826019d",
   "metadata": {},
   "outputs": [
    {
     "name": "stdout",
     "output_type": "stream",
     "text": [
      "                            OLS Regression Results                            \n",
      "==============================================================================\n",
      "Dep. Variable:                 Ysales   R-squared:                       0.995\n",
      "Model:                            OLS   Adj. R-squared:                  0.993\n",
      "Method:                 Least Squares   F-statistic:                     450.4\n",
      "Date:                Wed, 14 Jul 2021   Prob (F-statistic):           2.63e-14\n",
      "Time:                        07:16:55   Log-Likelihood:                -164.43\n",
      "No. Observations:                  20   AIC:                             342.9\n",
      "Df Residuals:                      13   BIC:                             349.8\n",
      "Df Model:                           6                                         \n",
      "Covariance Type:            nonrobust                                         \n",
      "==============================================================================\n",
      "                 coef    std err          t      P>|t|      [0.025      0.975]\n",
      "------------------------------------------------------------------------------\n",
      "const       4.893e+04   1245.230     39.296      0.000    4.62e+04    5.16e+04\n",
      "t_Qtr        -65.2412    512.930     -0.127      0.901   -1173.360    1042.878\n",
      "t_Qtr2        -0.3505     56.033     -0.006      0.995    -121.402     120.701\n",
      "t_Qtr3         2.0268      1.759      1.153      0.270      -1.772       5.826\n",
      "Qtr_2       1274.0611    711.294      1.791      0.097    -262.595    2810.718\n",
      "Qtr_3       9317.2146    725.227     12.847      0.000    7750.456    1.09e+04\n",
      "Qtr_4       2.837e+04    748.842     37.889      0.000    2.68e+04       3e+04\n",
      "==============================================================================\n",
      "Omnibus:                        2.222   Durbin-Watson:                   1.827\n",
      "Prob(Omnibus):                  0.329   Jarque-Bera (JB):                1.291\n",
      "Skew:                           0.314   Prob(JB):                        0.524\n",
      "Kurtosis:                       1.926   Cond. No.                     1.76e+04\n",
      "==============================================================================\n",
      "\n",
      "Notes:\n",
      "[1] Standard Errors assume that the covariance matrix of the errors is correctly specified.\n",
      "[2] The condition number is large, 1.76e+04. This might indicate that there are\n",
      "strong multicollinearity or other numerical problems.\n"
     ]
    }
   ],
   "source": [
    "est=sm.OLS(y_train,x2)\n",
    "est2=est.fit()\n",
    "print(est2.summary())"
   ]
  },
  {
   "cell_type": "code",
   "execution_count": 25,
   "id": "c193334a",
   "metadata": {},
   "outputs": [],
   "source": [
    "y_pred=mlr.predict(x_valid)"
   ]
  },
  {
   "cell_type": "code",
   "execution_count": 26,
   "id": "14ad44b7",
   "metadata": {},
   "outputs": [
    {
     "data": {
      "text/plain": [
       "array([ 66177.93008768,  70182.86636827,  81223.73318059, 103556.33052464])"
      ]
     },
     "execution_count": 26,
     "metadata": {},
     "output_type": "execute_result"
    }
   ],
   "source": [
    "y_pred"
   ]
  },
  {
   "cell_type": "code",
   "execution_count": 27,
   "id": "9f0cb0b8",
   "metadata": {},
   "outputs": [
    {
     "data": {
      "text/html": [
       "<div>\n",
       "<style scoped>\n",
       "    .dataframe tbody tr th:only-of-type {\n",
       "        vertical-align: middle;\n",
       "    }\n",
       "\n",
       "    .dataframe tbody tr th {\n",
       "        vertical-align: top;\n",
       "    }\n",
       "\n",
       "    .dataframe thead th {\n",
       "        text-align: right;\n",
       "    }\n",
       "</style>\n",
       "<table border=\"1\" class=\"dataframe\">\n",
       "  <thead>\n",
       "    <tr style=\"text-align: right;\">\n",
       "      <th></th>\n",
       "      <th>Actual</th>\n",
       "      <th>Predicted</th>\n",
       "    </tr>\n",
       "  </thead>\n",
       "  <tbody>\n",
       "    <tr>\n",
       "      <th>20</th>\n",
       "      <td>60800.0</td>\n",
       "      <td>66177.930088</td>\n",
       "    </tr>\n",
       "    <tr>\n",
       "      <th>21</th>\n",
       "      <td>64900.0</td>\n",
       "      <td>70182.866368</td>\n",
       "    </tr>\n",
       "    <tr>\n",
       "      <th>22</th>\n",
       "      <td>76997.0</td>\n",
       "      <td>81223.733181</td>\n",
       "    </tr>\n",
       "    <tr>\n",
       "      <th>23</th>\n",
       "      <td>103337.0</td>\n",
       "      <td>103556.330525</td>\n",
       "    </tr>\n",
       "  </tbody>\n",
       "</table>\n",
       "</div>"
      ],
      "text/plain": [
       "      Actual      Predicted\n",
       "20   60800.0   66177.930088\n",
       "21   64900.0   70182.866368\n",
       "22   76997.0   81223.733181\n",
       "23  103337.0  103556.330525"
      ]
     },
     "execution_count": 27,
     "metadata": {},
     "output_type": "execute_result"
    }
   ],
   "source": [
    "df=pd.DataFrame({'Actual':y_valid, 'Predicted':y_pred})\n",
    "df.sort_index()"
   ]
  },
  {
   "cell_type": "code",
   "execution_count": 28,
   "id": "0ddda37b",
   "metadata": {},
   "outputs": [
    {
     "name": "stdout",
     "output_type": "stream",
     "text": [
      "R2:0.932\n",
      "MAE:3776.7\n",
      "RMSE:4322.7\n"
     ]
    }
   ],
   "source": [
    "import sklearn\n",
    "R2=sklearn.metrics.r2_score(y_valid,y_pred)\n",
    "MAE=sklearn.metrics.mean_absolute_error(y_valid,y_pred)\n",
    "RMSE=np.sqrt(sklearn.metrics.mean_squared_error(y_valid,y_pred))\n",
    "\n",
    "print('R2:{0:.3f}'.format(R2))\n",
    "print('MAE:{0:.1f}'.format(MAE))\n",
    "print('RMSE:{0:.1f}'.format(RMSE))"
   ]
  },
  {
   "cell_type": "markdown",
   "id": "3b081f48",
   "metadata": {},
   "source": [
    "### Model 2: Keep t_Qtr and t_Qtr2 (Drop t_Qtr3)"
   ]
  },
  {
   "cell_type": "code",
   "execution_count": 29,
   "id": "25013789",
   "metadata": {},
   "outputs": [],
   "source": [
    "x_train_no_qtr3=x_train.drop(columns=['t_Qtr3'])\n",
    "x_valid_no_qtr3=x_valid.drop(columns=['t_Qtr3'])"
   ]
  },
  {
   "cell_type": "code",
   "execution_count": 30,
   "id": "cf28cf9e",
   "metadata": {},
   "outputs": [
    {
     "data": {
      "text/plain": [
       "LinearRegression()"
      ]
     },
     "execution_count": 30,
     "metadata": {},
     "output_type": "execute_result"
    }
   ],
   "source": [
    "mlr.fit(x_train_no_qtr3,y_train)"
   ]
  },
  {
   "cell_type": "code",
   "execution_count": 31,
   "id": "600425f9",
   "metadata": {},
   "outputs": [
    {
     "name": "stdout",
     "output_type": "stream",
     "text": [
      "                            OLS Regression Results                            \n",
      "==============================================================================\n",
      "Dep. Variable:                 Ysales   R-squared:                       0.995\n",
      "Model:                            OLS   Adj. R-squared:                  0.993\n",
      "Method:                 Least Squares   F-statistic:                     527.9\n",
      "Date:                Wed, 14 Jul 2021   Prob (F-statistic):           2.01e-15\n",
      "Time:                        07:16:55   Log-Likelihood:                -165.40\n",
      "No. Observations:                  20   AIC:                             342.8\n",
      "Df Residuals:                      14   BIC:                             348.8\n",
      "Df Model:                           5                                         \n",
      "Covariance Type:            nonrobust                                         \n",
      "==============================================================================\n",
      "                 coef    std err          t      P>|t|      [0.025      0.975]\n",
      "------------------------------------------------------------------------------\n",
      "const       4.992e+04    914.665     54.576      0.000     4.8e+04    5.19e+04\n",
      "t_Qtr       -617.7505    184.575     -3.347      0.005   -1013.624    -221.877\n",
      "t_Qtr2        63.4941      8.528      7.445      0.000      45.203      81.786\n",
      "Qtr_2       1357.3631    715.862      1.896      0.079    -178.007    2892.734\n",
      "Qtr_3       9477.7381    720.025     13.163      0.000    7933.438     1.1e+04\n",
      "Qtr_4       2.862e+04    726.712     39.379      0.000    2.71e+04    3.02e+04\n",
      "==============================================================================\n",
      "Omnibus:                        4.624   Durbin-Watson:                   1.603\n",
      "Prob(Omnibus):                  0.099   Jarque-Bera (JB):                1.496\n",
      "Skew:                           0.065   Prob(JB):                        0.473\n",
      "Kurtosis:                       1.667   Cond. No.                         868.\n",
      "==============================================================================\n",
      "\n",
      "Notes:\n",
      "[1] Standard Errors assume that the covariance matrix of the errors is correctly specified.\n"
     ]
    }
   ],
   "source": [
    "x2=sm.add_constant(x_train_no_qtr3)\n",
    "est=sm.OLS(y_train,x2)\n",
    "est2=est.fit()\n",
    "print(est2.summary())"
   ]
  },
  {
   "cell_type": "code",
   "execution_count": 32,
   "id": "f1fe2b00",
   "metadata": {},
   "outputs": [],
   "source": [
    "y_pred=mlr.predict(x_valid_no_qtr3)"
   ]
  },
  {
   "cell_type": "code",
   "execution_count": 33,
   "id": "a2bfb191",
   "metadata": {},
   "outputs": [
    {
     "data": {
      "text/html": [
       "<div>\n",
       "<style scoped>\n",
       "    .dataframe tbody tr th:only-of-type {\n",
       "        vertical-align: middle;\n",
       "    }\n",
       "\n",
       "    .dataframe tbody tr th {\n",
       "        vertical-align: top;\n",
       "    }\n",
       "\n",
       "    .dataframe thead th {\n",
       "        text-align: right;\n",
       "    }\n",
       "</style>\n",
       "<table border=\"1\" class=\"dataframe\">\n",
       "  <thead>\n",
       "    <tr style=\"text-align: right;\">\n",
       "      <th></th>\n",
       "      <th>Actual</th>\n",
       "      <th>Predicted</th>\n",
       "    </tr>\n",
       "  </thead>\n",
       "  <tbody>\n",
       "    <tr>\n",
       "      <th>0</th>\n",
       "      <td>64947.249270</td>\n",
       "      <td>64947.249270</td>\n",
       "    </tr>\n",
       "    <tr>\n",
       "      <th>1</th>\n",
       "      <td>68417.106934</td>\n",
       "      <td>68417.106934</td>\n",
       "    </tr>\n",
       "    <tr>\n",
       "      <th>2</th>\n",
       "      <td>78776.964599</td>\n",
       "      <td>78776.964599</td>\n",
       "    </tr>\n",
       "    <tr>\n",
       "      <th>3</th>\n",
       "      <td>100282.622263</td>\n",
       "      <td>100282.622263</td>\n",
       "    </tr>\n",
       "  </tbody>\n",
       "</table>\n",
       "</div>"
      ],
      "text/plain": [
       "          Actual      Predicted\n",
       "0   64947.249270   64947.249270\n",
       "1   68417.106934   68417.106934\n",
       "2   78776.964599   78776.964599\n",
       "3  100282.622263  100282.622263"
      ]
     },
     "execution_count": 33,
     "metadata": {},
     "output_type": "execute_result"
    }
   ],
   "source": [
    "df=pd.DataFrame({'Actual':y_pred, 'Predicted':y_pred})\n",
    "df.sort_index()"
   ]
  },
  {
   "cell_type": "code",
   "execution_count": 34,
   "id": "26852e79",
   "metadata": {},
   "outputs": [
    {
     "name": "stdout",
     "output_type": "stream",
     "text": [
      "R2:0.962\n",
      "MAE:3124.7\n",
      "RMSE:3243.0\n"
     ]
    }
   ],
   "source": [
    "R2=sklearn.metrics.r2_score(y_valid,y_pred)\n",
    "MAE=sklearn.metrics.mean_absolute_error(y_valid,y_pred)\n",
    "RMSE=np.sqrt(sklearn.metrics.mean_squared_error(y_valid,y_pred))\n",
    "\n",
    "print('R2:{0:.3f}'.format(R2))\n",
    "print('MAE:{0:.1f}'.format(MAE))\n",
    "print('RMSE:{0:.1f}'.format(RMSE))"
   ]
  },
  {
   "cell_type": "markdown",
   "id": "26a85b4f",
   "metadata": {},
   "source": [
    "### Model3: Keep t_Qtr and t_Qtr3 (Drop t_Qtr2)"
   ]
  },
  {
   "cell_type": "code",
   "execution_count": 35,
   "id": "fe5e2137",
   "metadata": {},
   "outputs": [],
   "source": [
    "x_train_no_qtr2=x_train.drop(columns=['t_Qtr2'])\n",
    "x_valid_no_qtr2=x_valid.drop(columns=['t_Qtr2'])"
   ]
  },
  {
   "cell_type": "code",
   "execution_count": 36,
   "id": "8a7376d1",
   "metadata": {},
   "outputs": [
    {
     "data": {
      "text/plain": [
       "LinearRegression()"
      ]
     },
     "execution_count": 36,
     "metadata": {},
     "output_type": "execute_result"
    }
   ],
   "source": [
    "mlr.fit(x_train_no_qtr2,y_train)"
   ]
  },
  {
   "cell_type": "code",
   "execution_count": 37,
   "id": "c4f5b727",
   "metadata": {},
   "outputs": [
    {
     "name": "stdout",
     "output_type": "stream",
     "text": [
      "                            OLS Regression Results                            \n",
      "==============================================================================\n",
      "Dep. Variable:                 Ysales   R-squared:                       0.995\n",
      "Model:                            OLS   Adj. R-squared:                  0.994\n",
      "Method:                 Least Squares   F-statistic:                     582.1\n",
      "Date:                Wed, 14 Jul 2021   Prob (F-statistic):           1.02e-15\n",
      "Time:                        07:16:55   Log-Likelihood:                -164.43\n",
      "No. Observations:                  20   AIC:                             340.9\n",
      "Df Residuals:                      14   BIC:                             346.8\n",
      "Df Model:                           5                                         \n",
      "Covariance Type:            nonrobust                                         \n",
      "==============================================================================\n",
      "                 coef    std err          t      P>|t|      [0.025      0.975]\n",
      "------------------------------------------------------------------------------\n",
      "const       4.894e+04    783.775     62.439      0.000    4.73e+04    5.06e+04\n",
      "t_Qtr        -68.3728    107.884     -0.634      0.536    -299.760     163.015\n",
      "t_Qtr3         2.0159      0.255      7.907      0.000       1.469       2.563\n",
      "Qtr_2       1274.5240    681.702      1.870      0.083    -187.582    2736.630\n",
      "Qtr_3       9318.0918    685.659     13.590      0.000    7847.500    1.08e+04\n",
      "Qtr_4       2.837e+04    692.887     40.951      0.000    2.69e+04    2.99e+04\n",
      "==============================================================================\n",
      "Omnibus:                        2.231   Durbin-Watson:                   1.827\n",
      "Prob(Omnibus):                  0.328   Jarque-Bera (JB):                1.290\n",
      "Skew:                           0.312   Prob(JB):                        0.525\n",
      "Kurtosis:                       1.923   Cond. No.                     1.48e+04\n",
      "==============================================================================\n",
      "\n",
      "Notes:\n",
      "[1] Standard Errors assume that the covariance matrix of the errors is correctly specified.\n",
      "[2] The condition number is large, 1.48e+04. This might indicate that there are\n",
      "strong multicollinearity or other numerical problems.\n"
     ]
    }
   ],
   "source": [
    "x2=sm.add_constant(x_train_no_qtr2)\n",
    "est=sm.OLS(y_train, x2)\n",
    "est2=est.fit()\n",
    "print(est2.summary())"
   ]
  },
  {
   "cell_type": "code",
   "execution_count": 38,
   "id": "55f76860",
   "metadata": {},
   "outputs": [],
   "source": [
    "y_pred=mlr.predict(x_valid_no_qtr2)"
   ]
  },
  {
   "cell_type": "code",
   "execution_count": 39,
   "id": "ea54f21e",
   "metadata": {},
   "outputs": [
    {
     "data": {
      "text/html": [
       "<div>\n",
       "<style scoped>\n",
       "    .dataframe tbody tr th:only-of-type {\n",
       "        vertical-align: middle;\n",
       "    }\n",
       "\n",
       "    .dataframe tbody tr th {\n",
       "        vertical-align: top;\n",
       "    }\n",
       "\n",
       "    .dataframe thead th {\n",
       "        text-align: right;\n",
       "    }\n",
       "</style>\n",
       "<table border=\"1\" class=\"dataframe\">\n",
       "  <thead>\n",
       "    <tr style=\"text-align: right;\">\n",
       "      <th></th>\n",
       "      <th>Actual</th>\n",
       "      <th>Predicted</th>\n",
       "    </tr>\n",
       "  </thead>\n",
       "  <tbody>\n",
       "    <tr>\n",
       "      <th>0</th>\n",
       "      <td>66171.929002</td>\n",
       "      <td>66171.929002</td>\n",
       "    </tr>\n",
       "    <tr>\n",
       "      <th>1</th>\n",
       "      <td>70174.184361</td>\n",
       "      <td>70174.184361</td>\n",
       "    </tr>\n",
       "    <tr>\n",
       "      <th>2</th>\n",
       "      <td>81211.587157</td>\n",
       "      <td>81211.587157</td>\n",
       "    </tr>\n",
       "    <tr>\n",
       "      <th>3</th>\n",
       "      <td>103539.937389</td>\n",
       "      <td>103539.937389</td>\n",
       "    </tr>\n",
       "  </tbody>\n",
       "</table>\n",
       "</div>"
      ],
      "text/plain": [
       "          Actual      Predicted\n",
       "0   66171.929002   66171.929002\n",
       "1   70174.184361   70174.184361\n",
       "2   81211.587157   81211.587157\n",
       "3  103539.937389  103539.937389"
      ]
     },
     "execution_count": 39,
     "metadata": {},
     "output_type": "execute_result"
    }
   ],
   "source": [
    "df=pd.DataFrame({'Actual':y_pred, 'Predicted':y_pred})\n",
    "df.sort_index()"
   ]
  },
  {
   "cell_type": "code",
   "execution_count": 40,
   "id": "8e639892",
   "metadata": {},
   "outputs": [
    {
     "name": "stdout",
     "output_type": "stream",
     "text": [
      "R2:0.932\n",
      "MAE:3765.9\n",
      "RMSE:4315.0\n"
     ]
    }
   ],
   "source": [
    "R2=sklearn.metrics.r2_score(y_valid,y_pred)\n",
    "MAE=sklearn.metrics.mean_absolute_error(y_valid,y_pred)\n",
    "RMSE=np.sqrt(sklearn.metrics.mean_squared_error(y_valid,y_pred))\n",
    "\n",
    "print('R2:{0:.3f}'.format(R2))\n",
    "print('MAE:{0:.1f}'.format(MAE))\n",
    "print('RMSE:{0:.1f}'.format(RMSE))"
   ]
  },
  {
   "cell_type": "markdown",
   "id": "cbb3b699",
   "metadata": {},
   "source": [
    "### Retrain the Model"
   ]
  },
  {
   "cell_type": "code",
   "execution_count": 41,
   "id": "6ee465e3",
   "metadata": {},
   "outputs": [],
   "source": [
    "x_trainplusvalid_no_qtr3=x_trainplusvalid.drop(columns=['t_Qtr3'])\n",
    "x_forecast_no_qtr3=x_forecast.drop(columns=['t_Qtr3'])"
   ]
  },
  {
   "cell_type": "code",
   "execution_count": 42,
   "id": "29351b73",
   "metadata": {},
   "outputs": [
    {
     "data": {
      "text/plain": [
       "LinearRegression()"
      ]
     },
     "execution_count": 42,
     "metadata": {},
     "output_type": "execute_result"
    }
   ],
   "source": [
    "mlr.fit(x_trainplusvalid_no_qtr3, y_trainplusvalid)"
   ]
  },
  {
   "cell_type": "code",
   "execution_count": 43,
   "id": "be888202",
   "metadata": {},
   "outputs": [
    {
     "name": "stdout",
     "output_type": "stream",
     "text": [
      "                            OLS Regression Results                            \n",
      "==============================================================================\n",
      "Dep. Variable:                 Ysales   R-squared:                       0.990\n",
      "Model:                            OLS   Adj. R-squared:                  0.988\n",
      "Method:                 Least Squares   F-statistic:                     374.6\n",
      "Date:                Wed, 14 Jul 2021   Prob (F-statistic):           1.56e-17\n",
      "Time:                        07:16:55   Log-Likelihood:                -208.41\n",
      "No. Observations:                  24   AIC:                             428.8\n",
      "Df Residuals:                      18   BIC:                             435.9\n",
      "Df Model:                           5                                         \n",
      "Covariance Type:            nonrobust                                         \n",
      "==============================================================================\n",
      "                 coef    std err          t      P>|t|      [0.025      0.975]\n",
      "------------------------------------------------------------------------------\n",
      "const       4.959e+04   1209.724     40.995      0.000    4.71e+04    5.21e+04\n",
      "t_Qtr       -613.5564    203.106     -3.021      0.007   -1040.266    -186.847\n",
      "t_Qtr2        61.0442      7.881      7.746      0.000      44.486      77.602\n",
      "Qtr_2       1514.5402    954.017      1.588      0.130    -489.776    3518.856\n",
      "Qtr_3       9981.4919    957.832     10.421      0.000    7969.162     1.2e+04\n",
      "Qtr_4       2.999e+04    964.026     31.107      0.000     2.8e+04     3.2e+04\n",
      "==============================================================================\n",
      "Omnibus:                        0.327   Durbin-Watson:                   1.431\n",
      "Prob(Omnibus):                  0.849   Jarque-Bera (JB):                0.333\n",
      "Skew:                           0.236   Prob(JB):                        0.847\n",
      "Kurtosis:                       2.668   Cond. No.                     1.24e+03\n",
      "==============================================================================\n",
      "\n",
      "Notes:\n",
      "[1] Standard Errors assume that the covariance matrix of the errors is correctly specified.\n",
      "[2] The condition number is large, 1.24e+03. This might indicate that there are\n",
      "strong multicollinearity or other numerical problems.\n"
     ]
    }
   ],
   "source": [
    "x2=sm.add_constant(x_trainplusvalid_no_qtr3)\n",
    "est=sm.OLS(y_trainplusvalid,x2)\n",
    "est2=est.fit()\n",
    "print(est2.summary())"
   ]
  },
  {
   "cell_type": "code",
   "execution_count": 44,
   "id": "b826eee3",
   "metadata": {},
   "outputs": [],
   "source": [
    "y_pred=mlr.predict(x_forecast_no_qtr3)"
   ]
  },
  {
   "cell_type": "code",
   "execution_count": 45,
   "id": "80454f13",
   "metadata": {},
   "outputs": [
    {
     "data": {
      "text/plain": [
       "array([ 72406.25102215,  76420.48824532,  87509.22546848, 110259.96269165])"
      ]
     },
     "execution_count": 45,
     "metadata": {},
     "output_type": "execute_result"
    }
   ],
   "source": [
    "y_pred"
   ]
  },
  {
   "cell_type": "code",
   "execution_count": null,
   "id": "efbe06c0",
   "metadata": {},
   "outputs": [],
   "source": []
  }
 ],
 "metadata": {
  "kernelspec": {
   "display_name": "Python 3",
   "language": "python",
   "name": "python3"
  },
  "language_info": {
   "codemirror_mode": {
    "name": "ipython",
    "version": 3
   },
   "file_extension": ".py",
   "mimetype": "text/x-python",
   "name": "python",
   "nbconvert_exporter": "python",
   "pygments_lexer": "ipython3",
   "version": "3.8.8"
  }
 },
 "nbformat": 4,
 "nbformat_minor": 5
}
