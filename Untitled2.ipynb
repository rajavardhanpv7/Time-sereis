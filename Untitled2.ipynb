{
 "cells": [
  {
   "cell_type": "code",
   "execution_count": 1,
   "id": "2b267ff3",
   "metadata": {},
   "outputs": [],
   "source": [
    "import pandas as pd\n",
    "from patsy import dmatrices\n",
    "import numpy as np\n",
    "import statsmodels.api as sm\n",
    "import matplotlib.pyplot as plt"
   ]
  },
  {
   "cell_type": "code",
   "execution_count": 2,
   "id": "eb053e8c",
   "metadata": {},
   "outputs": [],
   "source": [
    "df = pd.read_csv(r'E:\\nyc_bb_bicyclist_counts.csv', header=0, infer_datetime_format=True, parse_dates=[0], index_col=[0])"
   ]
  },
  {
   "cell_type": "code",
   "execution_count": 3,
   "id": "0070d776",
   "metadata": {},
   "outputs": [
    {
     "data": {
      "text/html": [
       "<div>\n",
       "<style scoped>\n",
       "    .dataframe tbody tr th:only-of-type {\n",
       "        vertical-align: middle;\n",
       "    }\n",
       "\n",
       "    .dataframe tbody tr th {\n",
       "        vertical-align: top;\n",
       "    }\n",
       "\n",
       "    .dataframe thead th {\n",
       "        text-align: right;\n",
       "    }\n",
       "</style>\n",
       "<table border=\"1\" class=\"dataframe\">\n",
       "  <thead>\n",
       "    <tr style=\"text-align: right;\">\n",
       "      <th></th>\n",
       "      <th>HIGH_T</th>\n",
       "      <th>LOW_T</th>\n",
       "      <th>PRECIP</th>\n",
       "      <th>BB_COUNT</th>\n",
       "    </tr>\n",
       "    <tr>\n",
       "      <th>Date</th>\n",
       "      <th></th>\n",
       "      <th></th>\n",
       "      <th></th>\n",
       "      <th></th>\n",
       "    </tr>\n",
       "  </thead>\n",
       "  <tbody>\n",
       "    <tr>\n",
       "      <th>2017-04-01</th>\n",
       "      <td>46.0</td>\n",
       "      <td>37.0</td>\n",
       "      <td>0.00</td>\n",
       "      <td>606</td>\n",
       "    </tr>\n",
       "    <tr>\n",
       "      <th>2017-04-02</th>\n",
       "      <td>62.1</td>\n",
       "      <td>41.0</td>\n",
       "      <td>0.00</td>\n",
       "      <td>2021</td>\n",
       "    </tr>\n",
       "    <tr>\n",
       "      <th>2017-04-03</th>\n",
       "      <td>63.0</td>\n",
       "      <td>50.0</td>\n",
       "      <td>0.03</td>\n",
       "      <td>2470</td>\n",
       "    </tr>\n",
       "    <tr>\n",
       "      <th>2017-04-04</th>\n",
       "      <td>51.1</td>\n",
       "      <td>46.0</td>\n",
       "      <td>1.18</td>\n",
       "      <td>723</td>\n",
       "    </tr>\n",
       "    <tr>\n",
       "      <th>2017-04-05</th>\n",
       "      <td>63.0</td>\n",
       "      <td>46.0</td>\n",
       "      <td>0.00</td>\n",
       "      <td>2807</td>\n",
       "    </tr>\n",
       "  </tbody>\n",
       "</table>\n",
       "</div>"
      ],
      "text/plain": [
       "            HIGH_T  LOW_T  PRECIP  BB_COUNT\n",
       "Date                                       \n",
       "2017-04-01    46.0   37.0    0.00       606\n",
       "2017-04-02    62.1   41.0    0.00      2021\n",
       "2017-04-03    63.0   50.0    0.03      2470\n",
       "2017-04-04    51.1   46.0    1.18       723\n",
       "2017-04-05    63.0   46.0    0.00      2807"
      ]
     },
     "execution_count": 3,
     "metadata": {},
     "output_type": "execute_result"
    }
   ],
   "source": [
    "df.head()"
   ]
  },
  {
   "cell_type": "code",
   "execution_count": 4,
   "id": "b402f4bc",
   "metadata": {},
   "outputs": [],
   "source": [
    "ds = df.index.to_series()\n",
    "df['MONTH'] = ds.dt.month\n",
    "df['DAY_OF_WEEK'] = ds.dt.dayofweek\n",
    "df['DAY'] = ds.dt.day"
   ]
  },
  {
   "cell_type": "code",
   "execution_count": 5,
   "id": "c198f7fa",
   "metadata": {},
   "outputs": [
    {
     "name": "stdout",
     "output_type": "stream",
     "text": [
      "Training data set length=156\n",
      "Testing data set length=58\n"
     ]
    }
   ],
   "source": [
    "mask = np.random.rand(len(df)) < 0.8\n",
    "df_train = df[mask]\n",
    "df_test = df[~mask]\n",
    "print('Training data set length='+str(len(df_train)))\n",
    "print('Testing data set length='+str(len(df_test)))"
   ]
  },
  {
   "cell_type": "code",
   "execution_count": 6,
   "id": "8279c9dd",
   "metadata": {},
   "outputs": [],
   "source": [
    "expr = \"\"\"BB_COUNT ~ DAY  + DAY_OF_WEEK + MONTH + HIGH_T + LOW_T + PRECIP\"\"\""
   ]
  },
  {
   "cell_type": "code",
   "execution_count": 7,
   "id": "da76334d",
   "metadata": {},
   "outputs": [],
   "source": [
    "y_train, X_train = dmatrices(expr, df_train, return_type='dataframe')\n",
    "y_test, X_test = dmatrices(expr, df_test, return_type='dataframe')"
   ]
  },
  {
   "cell_type": "code",
   "execution_count": 8,
   "id": "a49412c0",
   "metadata": {},
   "outputs": [],
   "source": [
    "poisson_training_results = sm.GLM(y_train, X_train, family=sm.families.Poisson()).fit()"
   ]
  },
  {
   "cell_type": "code",
   "execution_count": 9,
   "id": "3393d52f",
   "metadata": {},
   "outputs": [
    {
     "name": "stdout",
     "output_type": "stream",
     "text": [
      "<statsmodels.genmod.generalized_linear_model.GLMResultsWrapper object at 0x0000018FFE402AF0>\n"
     ]
    }
   ],
   "source": [
    "print(poisson_training_results)"
   ]
  },
  {
   "cell_type": "code",
   "execution_count": 10,
   "id": "5b968472",
   "metadata": {},
   "outputs": [
    {
     "name": "stdout",
     "output_type": "stream",
     "text": [
      "                 Generalized Linear Model Regression Results                  \n",
      "==============================================================================\n",
      "Dep. Variable:               BB_COUNT   No. Observations:                  156\n",
      "Model:                            GLM   Df Residuals:                      149\n",
      "Model Family:                 Poisson   Df Model:                            6\n",
      "Link Function:                    log   Scale:                          1.0000\n",
      "Method:                          IRLS   Log-Likelihood:                -10611.\n",
      "Date:                Sat, 24 Jul 2021   Deviance:                       19714.\n",
      "Time:                        10:47:01   Pearson chi2:                 1.99e+04\n",
      "No. Iterations:                     5                                         \n",
      "Covariance Type:            nonrobust                                         \n",
      "===============================================================================\n",
      "                  coef    std err          z      P>|z|      [0.025      0.975]\n",
      "-------------------------------------------------------------------------------\n",
      "Intercept       7.2100      0.013    547.956      0.000       7.184       7.236\n",
      "DAY             0.0002      0.000      1.093      0.274      -0.000       0.001\n",
      "DAY_OF_WEEK    -0.0225      0.001    -29.297      0.000      -0.024      -0.021\n",
      "MONTH           0.0107      0.001     12.905      0.000       0.009       0.012\n",
      "HIGH_T          0.0215      0.000     62.898      0.000       0.021       0.022\n",
      "LOW_T          -0.0139      0.000    -36.911      0.000      -0.015      -0.013\n",
      "PRECIP         -0.7251      0.007    -97.052      0.000      -0.740      -0.710\n",
      "===============================================================================\n"
     ]
    }
   ],
   "source": [
    "print(poisson_training_results.summary())"
   ]
  },
  {
   "cell_type": "code",
   "execution_count": 11,
   "id": "45198f49",
   "metadata": {},
   "outputs": [
    {
     "name": "stdout",
     "output_type": "stream",
     "text": [
      "                   mean    mean_se  mean_ci_lower  mean_ci_upper\n",
      "Date                                                            \n",
      "2017-04-01  2031.647671  12.121546    2008.028248    2055.544917\n",
      "2017-04-02  2657.051086  15.687046    2626.482246    2687.975707\n",
      "2017-04-03  2678.517015  12.594235    2653.946159    2703.315353\n",
      "2017-04-06  1261.704321   8.551383    1245.054749    1278.576540\n",
      "2017-04-13  2659.976091   9.536495    2641.350421    2678.733101\n",
      "2017-04-14  2652.157872   9.751983    2633.113046    2671.340447\n",
      "2017-04-16  3223.747358  15.909836    3192.714980    3255.081363\n",
      "2017-04-20  2364.554839   8.742873    2347.481064    2381.752795\n",
      "2017-04-24  2564.393649  12.113179    2540.761816    2588.245284\n",
      "2017-04-27  2527.425673  10.197390    2507.517973    2547.491423\n",
      "2017-05-01  3356.040510  18.399226    3320.171745    3392.296775\n",
      "2017-05-09  2667.547219  10.221012    2647.589437    2687.655444\n",
      "2017-05-13   795.257625   7.910026     779.904399     810.913094\n",
      "2017-05-25  1408.863211   7.962479    1393.343155    1424.556139\n",
      "2017-05-28  2552.945761  10.442769    2532.560138    2573.495477\n",
      "2017-05-29  2090.429740  11.830583    2067.370349    2113.746335\n",
      "2017-05-30  2202.252263  11.709537    2179.421164    2225.322535\n",
      "2017-05-31  3019.734758  12.253780    2995.813046    3043.847487\n",
      "2017-06-01  3056.929425  10.553034    3036.315675    3077.683124\n",
      "2017-06-20  2977.779015   9.152178    2959.894996    2995.771091\n",
      "2017-06-28  3143.794228   9.962717    3124.328177    3163.381562\n",
      "2017-06-29  3015.354308   9.651065    2996.497774    3034.329504\n",
      "2017-06-30  3135.814003  12.138843    3112.112334    3159.696182\n",
      "2017-07-01  2522.683179  10.611683    2501.970165    2543.567670\n",
      "2017-07-07   781.753521  10.119668     762.168831     801.841458\n",
      "2017-07-11  3074.662244  10.467114    3054.215367    3095.246006\n",
      "2017-07-12  3126.229246  10.134992    3106.428002    3146.156707\n",
      "2017-07-20  3398.396813  10.977706    3376.948871    3419.980977\n",
      "2017-07-25  2721.530146   9.362946    2703.240841    2739.943191\n",
      "2017-07-30  2974.526860  11.835911    2951.419126    2997.815514\n",
      "2017-08-01  3757.995746  17.116080    3724.598135    3791.692825\n",
      "2017-08-02  3218.917235  12.118814    3195.252215    3242.757525\n",
      "2017-08-06  2714.757712   9.546949    2696.110374    2733.534022\n",
      "2017-08-09  3360.383202   9.302480    3342.200049    3378.665280\n",
      "2017-08-13  2809.119509   9.462553    2790.634333    2827.727130\n",
      "2017-08-24  3030.699043   6.941815    3017.123831    3044.335336\n",
      "2017-08-25  2988.800950   7.632410    2973.879076    3003.797697\n",
      "2017-08-26  2930.772936   8.949097    2913.285409    2948.365435\n",
      "2017-08-27  2830.642339  10.055417    2811.002533    2850.419363\n",
      "2017-08-30  3089.213193  10.332841    3069.027435    3109.531717\n",
      "2017-09-03  1462.420155   9.564598    1443.793527    1481.287089\n",
      "2017-09-05  3338.035860  12.046679    3314.508112    3361.730619\n",
      "2017-09-07  2817.744102   8.537997    2801.059528    2834.528058\n",
      "2017-09-09  2748.474507   9.531746    2729.855977    2767.220021\n",
      "2017-09-16  2950.313902   8.533652    2933.635571    2967.087052\n",
      "2017-09-17  2769.808246   9.666491    2750.926921    2788.819165\n",
      "2017-09-18  2756.053925  12.122921    2732.395564    2779.917131\n",
      "2017-10-02  3444.193897  19.854498    3405.498805    3483.328663\n",
      "2017-10-04  3328.601334  15.603448    3298.159198    3359.324451\n",
      "2017-10-05  3340.145936  13.095236    3314.578104    3365.910993\n",
      "2017-10-10  3306.665854  11.639497    3283.931373    3329.557724\n",
      "2017-10-11  2817.240295   9.071618    2799.516239    2835.076565\n",
      "2017-10-12  2394.039467   9.453314    2375.582825    2412.639505\n",
      "2017-10-13  2708.341519  10.533949    2687.773853    2729.066576\n",
      "2017-10-16  2655.137544  12.806753    2630.155042    2680.357341\n",
      "2017-10-20  2974.652716  10.190888    2954.745850    2994.693698\n",
      "2017-10-24  2431.950064   9.881880    2412.658855    2451.395521\n",
      "2017-10-30  2178.986274  13.405471    2152.869807    2205.419560\n"
     ]
    }
   ],
   "source": [
    "poisson_predictions = poisson_training_results.get_prediction(X_test)\n",
    "#summary_frame() returns a pandas DataFrame\n",
    "predictions_summary_frame = poisson_predictions.summary_frame()\n",
    "print(predictions_summary_frame)"
   ]
  },
  {
   "cell_type": "code",
   "execution_count": 12,
   "id": "ab5a6fed",
   "metadata": {},
   "outputs": [
    {
     "data": {
      "image/png": "[encoded data removed]",
      "text/plain": [
       "<Figure size 432x288 with 1 Axes>"
      ]
     },
     "metadata": {
      "needs_background": "light"
     },
     "output_type": "display_data"
    }
   ],
   "source": [
    "predicted_counts=predictions_summary_frame['mean']\n",
    "actual_counts = y_test['BB_COUNT']\n",
    "fig = plt.figure()\n",
    "fig.suptitle('Predicted versus actual bicyclist counts on the Brooklyn bridge')\n",
    "predicted, = plt.plot(X_test.index, predicted_counts, 'go-', label='Predicted counts')\n",
    "actual, = plt.plot(X_test.index, actual_counts, 'ro-', label='Actual counts')\n",
    "plt.legend(handles=[predicted, actual])\n",
    "plt.show()"
   ]
  },
  {
   "cell_type": "code",
   "execution_count": 13,
   "id": "2f92e811",
   "metadata": {},
   "outputs": [
    {
     "data": {
      "text/plain": [
       "<Figure size 432x288 with 0 Axes>"
      ]
     },
     "metadata": {},
     "output_type": "display_data"
    },
    {
     "data": {
      "image/png": "[encoded data removed]",
      "text/plain": [
       "<Figure size 432x288 with 1 Axes>"
      ]
     },
     "metadata": {
      "needs_background": "light"
     },
     "output_type": "display_data"
    }
   ],
   "source": [
    "plt.clf()\n",
    "fig = plt.figure()\n",
    "fig.suptitle('Scatter plot of Actual versus Predicted counts')\n",
    "plt.scatter(x=predicted_counts, y=actual_counts, marker='.')\n",
    "plt.xlabel('Predicted counts')\n",
    "plt.ylabel('Actual counts')\n",
    "plt.show()"
   ]
  },
  {
   "cell_type": "code",
   "execution_count": 14,
   "id": "4516b310",
   "metadata": {},
   "outputs": [
    {
     "name": "stdout",
     "output_type": "stream",
     "text": [
      "[ 931.24086981 2767.28589744 1984.09645478 2417.91496073 2737.52181938\n",
      " 3233.18757793 3274.16851274 2927.64442243 2484.62914011 2837.51256267\n",
      " 2863.5984032  2205.33271825 1691.04895236 1893.31616095 2611.54328524\n",
      " 1145.38064477 1783.87658703 3457.17329427 3045.81530966 2324.80197537\n",
      " 2705.03283507 2469.65465297 2586.80434575  252.76569481 2052.72117539\n",
      " 2009.88553523 2609.18564038 3032.46826288 2420.36484712 2447.27377396\n",
      " 2629.40731512 2779.39252227 3363.51247912 3797.15743167 3414.67855068\n",
      " 3166.02752254 2319.12636503 2461.9723525  1641.10933161 2710.96420867\n",
      " 2546.79900869 2699.6554655  2539.13161327 2787.93464937 2809.04205319\n",
      " 2216.4032207  2606.91870078 2154.20422435 2752.81438192 2572.01439852\n",
      " 3262.53875623 3062.7986438  3179.50999877 3586.98588979 3580.56356608\n",
      " 2617.23124601 2717.16853671 2286.04944147  897.35098517 2817.32603733\n",
      " 1341.40562535 2976.17715885 2992.36905327 2670.74252928 1127.76998603\n",
      " 2833.93645241 3114.17639169 2732.34203567 3013.89688305 2556.02911862\n",
      " 3213.64837702 3231.23863505 2535.80223245 2939.51807603 2794.30772987\n",
      " 3241.01197779 3191.6246447  1863.05540034 3026.46114054 3005.3091916\n",
      " 3259.28631311 3250.45175887 3404.49239089 3256.05143866 2074.43516987\n",
      " 2388.24464114 1580.58494811 2870.16833024 2817.93250312 3023.00556396\n",
      " 2611.13166455 3849.78729851 3318.58728566 2723.31230724 2104.27013441\n",
      " 1595.465518   3026.83192947 3148.11803397 2897.7900043  2535.00328315\n",
      " 3134.42533779 1922.6798206  3323.59826469 3007.69585978 1481.40678886\n",
      " 2982.02624576 2795.61133089 3338.38387732 2730.80685625 2935.28034448\n",
      " 3103.97934556 2459.31929916 3257.41672884 2861.22773983 1807.40195318\n",
      " 3444.98652045 2002.38828042 2710.81950383 2782.58196111 3561.22795919\n",
      " 3360.06071484 3241.23355023 2975.744581   3082.2669657  2564.14480668\n",
      " 2860.89623203 2920.74131578 3193.33645227 3310.32230149 3474.66148235\n",
      " 3589.96802365 3275.30039874 3315.9455488  3007.02999248 2692.15263269\n",
      " 2443.02980987 2772.08612474 3010.53144031 3016.27934819 3020.27197728\n",
      " 2167.88763871 2354.38217978 2482.71292552 2467.28219988 2826.0700011\n",
      " 3331.23515108 2931.88168541 3286.88697146 3065.95316646 3051.19583977\n",
      " 2616.97554917 2308.1027891  2703.2188061  2689.89806421  254.85101493\n",
      " 2570.38993386]\n",
      "156\n"
     ]
    }
   ],
   "source": [
    "print(poisson_training_results.mu)\n",
    "print(len(poisson_training_results.mu))"
   ]
  },
  {
   "cell_type": "code",
   "execution_count": 15,
   "id": "8117d9b1",
   "metadata": {},
   "outputs": [],
   "source": [
    "import statsmodels.formula.api as smf"
   ]
  },
  {
   "cell_type": "code",
   "execution_count": 16,
   "id": "7402b963",
   "metadata": {},
   "outputs": [
    {
     "name": "stderr",
     "output_type": "stream",
     "text": [
      "<ipython-input-16-8d40ae58569c>:1: SettingWithCopyWarning: \n",
      "A value is trying to be set on a copy of a slice from a DataFrame.\n",
      "Try using .loc[row_indexer,col_indexer] = value instead\n",
      "\n",
      "See the caveats in the documentation: https://pandas.pydata.org/pandas-docs/stable/user_guide/indexing.html#returning-a-view-versus-a-copy\n",
      "  df_train['BB_LAMBDA'] = poisson_training_results.mu\n"
     ]
    }
   ],
   "source": [
    "df_train['BB_LAMBDA'] = poisson_training_results.mu"
   ]
  },
  {
   "cell_type": "code",
   "execution_count": 17,
   "id": "ce7e91fc",
   "metadata": {},
   "outputs": [
    {
     "name": "stderr",
     "output_type": "stream",
     "text": [
      "<ipython-input-17-69a624a08222>:1: SettingWithCopyWarning: \n",
      "A value is trying to be set on a copy of a slice from a DataFrame.\n",
      "Try using .loc[row_indexer,col_indexer] = value instead\n",
      "\n",
      "See the caveats in the documentation: https://pandas.pydata.org/pandas-docs/stable/user_guide/indexing.html#returning-a-view-versus-a-copy\n",
      "  df_train['AUX_OLS_DEP'] = df_train.apply(lambda x: ((x['BB_COUNT'] - x['BB_LAMBDA'])**2 - x['BB_LAMBDA']) / x['BB_LAMBDA'], axis=1)\n"
     ]
    }
   ],
   "source": [
    "df_train['AUX_OLS_DEP'] = df_train.apply(lambda x: ((x['BB_COUNT'] - x['BB_LAMBDA'])**2 - x['BB_LAMBDA']) / x['BB_LAMBDA'], axis=1)"
   ]
  },
  {
   "cell_type": "code",
   "execution_count": 18,
   "id": "f4db4eba",
   "metadata": {},
   "outputs": [],
   "source": [
    "ols_expr = \"\"\"AUX_OLS_DEP ~ BB_LAMBDA - 1\"\"\""
   ]
  },
  {
   "cell_type": "code",
   "execution_count": 19,
   "id": "f3f85d2a",
   "metadata": {},
   "outputs": [],
   "source": [
    "aux_olsr_results = smf.ols(ols_expr, df_train).fit()"
   ]
  },
  {
   "cell_type": "code",
   "execution_count": 20,
   "id": "a64347af",
   "metadata": {},
   "outputs": [
    {
     "name": "stdout",
     "output_type": "stream",
     "text": [
      "BB_LAMBDA    0.039088\n",
      "dtype: float64\n"
     ]
    }
   ],
   "source": [
    "print(aux_olsr_results.params)"
   ]
  },
  {
   "cell_type": "code",
   "execution_count": 21,
   "id": "98387423",
   "metadata": {},
   "outputs": [
    {
     "data": {
      "text/plain": [
       "BB_LAMBDA    5.274038\n",
       "dtype: float64"
      ]
     },
     "execution_count": 21,
     "metadata": {},
     "output_type": "execute_result"
    }
   ],
   "source": [
    "aux_olsr_results.tvalues"
   ]
  },
  {
   "cell_type": "code",
   "execution_count": 22,
   "id": "a92590ac",
   "metadata": {},
   "outputs": [],
   "source": [
    "nb2_training_results = sm.GLM(y_train, X_train,family=sm.families.NegativeBinomial(alpha=aux_olsr_results.params[0])).fit()"
   ]
  },
  {
   "cell_type": "code",
   "execution_count": 23,
   "id": "a275b3cb",
   "metadata": {},
   "outputs": [
    {
     "name": "stdout",
     "output_type": "stream",
     "text": [
      "                 Generalized Linear Model Regression Results                  \n",
      "==============================================================================\n",
      "Dep. Variable:               BB_COUNT   No. Observations:                  156\n",
      "Model:                            GLM   Df Residuals:                      149\n",
      "Model Family:        NegativeBinomial   Df Model:                            6\n",
      "Link Function:                    log   Scale:                          1.0000\n",
      "Method:                          IRLS   Log-Likelihood:                -1233.8\n",
      "Date:                Sat, 24 Jul 2021   Deviance:                       241.70\n",
      "Time:                        10:58:55   Pearson chi2:                     235.\n",
      "No. Iterations:                     7                                         \n",
      "Covariance Type:            nonrobust                                         \n",
      "===============================================================================\n",
      "                  coef    std err          z      P>|z|      [0.025      0.975]\n",
      "-------------------------------------------------------------------------------\n",
      "Intercept       7.0627      0.128     55.042      0.000       6.811       7.314\n",
      "DAY            -0.0007      0.002     -0.343      0.732      -0.004       0.003\n",
      "DAY_OF_WEEK    -0.0163      0.008     -2.064      0.039      -0.032      -0.001\n",
      "MONTH           0.0086      0.009      1.006      0.314      -0.008       0.025\n",
      "HIGH_T          0.0263      0.003      7.560      0.000       0.020       0.033\n",
      "LOW_T          -0.0173      0.004     -4.435      0.000      -0.025      -0.010\n",
      "PRECIP         -0.6392      0.041    -15.717      0.000      -0.719      -0.559\n",
      "===============================================================================\n"
     ]
    }
   ],
   "source": [
    "print(nb2_training_results.summary())"
   ]
  },
  {
   "cell_type": "code",
   "execution_count": 24,
   "id": "aecc5864",
   "metadata": {},
   "outputs": [],
   "source": [
    "nb2_predictions = nb2_training_results.get_prediction(X_test)"
   ]
  },
  {
   "cell_type": "code",
   "execution_count": 25,
   "id": "5eeaa666",
   "metadata": {},
   "outputs": [
    {
     "name": "stdout",
     "output_type": "stream",
     "text": [
      "                   mean     mean_se  mean_ci_lower  mean_ci_upper\n",
      "Date                                                             \n",
      "2017-04-01  1972.514594  115.523824    1758.604149    2212.444355\n",
      "2017-04-02  2765.459956  168.113183    2454.836454    3115.388300\n",
      "2017-04-03  2620.345720  122.845930    2390.302836    2872.527944\n",
      "2017-04-06  1283.067647   66.353378    1159.391134    1419.937188\n",
      "2017-04-13  2644.296362   94.821360    2464.830392    2836.829370\n",
      "2017-04-14  2662.229913   98.990353    2475.113514    2863.492146\n",
      "2017-04-16  3446.995740  179.295689    3112.901993    3816.946262\n",
      "2017-04-20  2372.271250   85.781106    2209.962873    2546.500194\n",
      "2017-04-24  2425.293551  112.617225    2214.314061    2656.375134\n",
      "2017-04-27  2445.082921   97.190812    2261.823752    2643.190251\n",
      "2017-05-01  3419.062898  195.110591    3057.263239    3823.678299\n",
      "2017-05-09  2592.803599   98.297770    2407.127335    2792.802193\n",
      "2017-05-13   851.115391   50.433289     757.792059     955.931644\n",
      "2017-05-25  1378.310868   63.549345    1259.218511    1508.666552\n",
      "2017-05-28  2546.685289  105.458943    2348.155146    2762.000616\n",
      "2017-05-29  1924.598296  107.000376    1725.903522    2146.167822\n",
      "2017-05-30  2037.015267  105.998668    1839.504836    2255.732693\n",
      "2017-05-31  3005.589281  127.776170    2765.302388    3266.755550\n",
      "2017-06-01  3129.007489  111.888742    2917.217953    3356.172911\n",
      "2017-06-20  2925.079433   93.588239    2747.282862    3114.382508\n",
      "2017-06-28  3124.535386  104.780805    2925.772388    3336.801393\n",
      "2017-06-29  2994.541749   99.619509    2805.520364    3196.298413\n",
      "2017-06-30  3176.763411  128.679641    2934.307725    3439.252702\n",
      "2017-07-01  2658.520243  111.059124    2449.521221    2885.351563\n",
      "2017-07-07   916.786155   65.551935     796.903134    1054.703914\n",
      "2017-07-11  3027.793646  106.246313    2826.554219    3243.360521\n",
      "2017-07-12  3120.440423  105.176422    2920.959987    3333.543930\n",
      "2017-07-20  3477.813477  119.096635    3252.049560    3719.250386\n",
      "2017-07-25  2583.098670   88.202146    2415.883460    2761.887669\n",
      "2017-07-30  3032.620508  125.189931    2796.916659    3288.187768\n",
      "2017-08-01  3892.791172  184.875925    3546.793919    4272.541189\n",
      "2017-08-02  3330.421595  130.691620    3083.873559    3596.680535\n",
      "2017-08-06  2759.422268   99.215964    2571.656296    2960.897717\n",
      "2017-08-09  3414.242494  100.875319    3222.146139    3617.791157\n",
      "2017-08-13  2853.096290   98.252447    2666.880101    3052.315113\n",
      "2017-08-24  3001.584601   72.197583    2863.363635    3146.477802\n",
      "2017-08-25  2983.362504   79.890013    2830.819086    3144.125979\n",
      "2017-08-26  2944.585519   93.738075    2766.476476    3134.161433\n",
      "2017-08-27  2850.466262  104.299328    2653.201361    3062.397763\n",
      "2017-08-30  3033.866339  107.081213    2831.085805    3251.171316\n",
      "2017-09-03  1554.104235   75.554181    1412.857014    1709.472331\n",
      "2017-09-05  3349.903438  126.163277    3111.533891    3606.534088\n",
      "2017-09-07  2788.192910   87.556102    2621.760406    2965.190750\n",
      "2017-09-09  2757.544615   99.510300    2569.245543    2959.644057\n",
      "2017-09-16  2975.204216   88.277080    2807.119093    3153.353966\n",
      "2017-09-17  2782.484979   98.810583    2595.405809    2983.048982\n",
      "2017-09-18  2583.076310  114.833127    2367.534182    2818.241560\n",
      "2017-10-02  3445.681157  208.936716    3059.571070    3880.517355\n",
      "2017-10-04  3369.852914  166.457021    3058.898405    3712.417726\n",
      "2017-10-05  3410.243238  139.554967    3147.402163    3695.034297\n",
      "2017-10-10  3277.361775  121.222153    3048.178365    3523.776799\n",
      "2017-10-11  2763.397039   92.628348    2587.683962    2951.041668\n",
      "2017-10-12  2299.335944   92.910003    2124.259922    2488.841280\n",
      "2017-10-13  2658.658821  108.198993    2454.829887    2879.412037\n",
      "2017-10-16  2479.864334  123.122805    2249.917584    2733.312169\n",
      "2017-10-20  2958.245411  107.070244    2755.662028    3175.721777\n",
      "2017-10-24  2333.849080   95.811242    2153.418740    2529.397292\n",
      "2017-10-30  2044.122576  126.937337    1809.874381    2308.689016\n"
     ]
    }
   ],
   "source": [
    "predictions_summary_frame = nb2_predictions.summary_frame()\n",
    "print(predictions_summary_frame)"
   ]
  },
  {
   "cell_type": "code",
   "execution_count": 26,
   "id": "b3284abd",
   "metadata": {},
   "outputs": [
    {
     "data": {
      "image/png": "[encoded data removed]",
      "text/plain": [
       "<Figure size 432x288 with 1 Axes>"
      ]
     },
     "metadata": {
      "needs_background": "light"
     },
     "output_type": "display_data"
    }
   ],
   "source": [
    "predicted_counts=predictions_summary_frame['mean']\n",
    "actual_counts = y_test['BB_COUNT']\n",
    "fig = plt.figure()\n",
    "fig.suptitle('Predicted versus actual bicyclist counts on the Brooklyn bridge')\n",
    "predicted, = plt.plot(X_test.index, predicted_counts, 'go-', label='Predicted counts')\n",
    "actual, = plt.plot(X_test.index, actual_counts, 'ro-', label='Actual counts')\n",
    "plt.legend(handles=[predicted, actual])\n",
    "plt.show()"
   ]
  },
  {
   "cell_type": "code",
   "execution_count": 27,
   "id": "ae894545",
   "metadata": {},
   "outputs": [
    {
     "name": "stdout",
     "output_type": "stream",
     "text": [
      "variance=730530.6601948135\n",
      "mean=2680.042056074766\n"
     ]
    }
   ],
   "source": [
    "print('variance='+str(df['BB_COUNT'].var()))\n",
    "print('mean='+str(df['BB_COUNT'].mean()))"
   ]
  },
  {
   "cell_type": "code",
   "execution_count": 28,
   "id": "e644b18d",
   "metadata": {},
   "outputs": [],
   "source": [
    "gen_poisson_gp1 = sm.GeneralizedPoisson(y_train, X_train, p=1)"
   ]
  },
  {
   "cell_type": "code",
   "execution_count": 29,
   "id": "f06d898f",
   "metadata": {},
   "outputs": [
    {
     "name": "stdout",
     "output_type": "stream",
     "text": [
      "Optimization terminated successfully.\n",
      "         Current function value: 7.762999\n",
      "         Iterations: 24\n",
      "         Function evaluations: 29\n",
      "         Gradient evaluations: 29\n"
     ]
    }
   ],
   "source": [
    "gen_poisson_gp1_results = gen_poisson_gp1.fit()"
   ]
  },
  {
   "cell_type": "code",
   "execution_count": 30,
   "id": "c845e148",
   "metadata": {},
   "outputs": [
    {
     "name": "stdout",
     "output_type": "stream",
     "text": [
      "                    GeneralizedPoisson Regression Results                     \n",
      "==============================================================================\n",
      "Dep. Variable:               BB_COUNT   No. Observations:                  156\n",
      "Model:             GeneralizedPoisson   Df Residuals:                      149\n",
      "Method:                           MLE   Df Model:                            6\n",
      "Date:                Sat, 24 Jul 2021   Pseudo R-squ.:                 0.08386\n",
      "Time:                        11:06:38   Log-Likelihood:                -1211.0\n",
      "converged:                       True   LL-Null:                       -1321.9\n",
      "Covariance Type:            nonrobust   LLR p-value:                 4.494e-45\n",
      "===============================================================================\n",
      "                  coef    std err          z      P>|z|      [0.025      0.975]\n",
      "-------------------------------------------------------------------------------\n",
      "Intercept       7.1554      0.142     50.528      0.000       6.878       7.433\n",
      "DAY             0.0015      0.002      0.717      0.473      -0.003       0.006\n",
      "DAY_OF_WEEK    -0.0257      0.008     -3.081      0.002      -0.042      -0.009\n",
      "MONTH           0.0081      0.009      0.894      0.371      -0.010       0.026\n",
      "HIGH_T          0.0251      0.004      6.836      0.000       0.018       0.032\n",
      "LOW_T          -0.0171      0.004     -4.227      0.000      -0.025      -0.009\n",
      "PRECIP         -0.8124      0.103     -7.920      0.000      -1.013      -0.611\n",
      "alpha          10.5080      0.686     15.318      0.000       9.163      11.852\n",
      "===============================================================================\n"
     ]
    }
   ],
   "source": [
    "print(gen_poisson_gp1_results.summary())"
   ]
  },
  {
   "cell_type": "code",
   "execution_count": 31,
   "id": "eb5f6c86",
   "metadata": {},
   "outputs": [],
   "source": [
    "\n",
    "gen_poisson_gp1_predictions = gen_poisson_gp1_results.predict(X_test)\n"
   ]
  },
  {
   "cell_type": "code",
   "execution_count": 32,
   "id": "0b430f9b",
   "metadata": {},
   "outputs": [
    {
     "data": {
      "image/png": "[encoded data removed]",
      "text/plain": [
       "<Figure size 432x288 with 1 Axes>"
      ]
     },
     "metadata": {
      "needs_background": "light"
     },
     "output_type": "display_data"
    }
   ],
   "source": [
    "predicted_counts=gen_poisson_gp1_predictions\n",
    "actual_counts = y_test['BB_COUNT']\n",
    "fig = plt.figure()\n",
    "fig.suptitle('Predicted versus actual bicyclist counts on the Brooklyn bridge')\n",
    "predicted, = plt.plot(X_test.index, predicted_counts, 'go-', label='Predicted counts')\n",
    "actual, = plt.plot(X_test.index, actual_counts, 'ro-', label='Actual counts')\n",
    "plt.legend(handles=[predicted, actual])\n",
    "plt.show()"
   ]
  },
  {
   "cell_type": "code",
   "execution_count": 33,
   "id": "a321d49f",
   "metadata": {},
   "outputs": [
    {
     "name": "stdout",
     "output_type": "stream",
     "text": [
      "Optimization terminated successfully.\n",
      "         Current function value: 8.005005\n",
      "         Iterations: 20\n",
      "         Function evaluations: 30\n",
      "         Gradient evaluations: 30\n",
      "                    GeneralizedPoisson Regression Results                     \n",
      "==============================================================================\n",
      "Dep. Variable:               BB_COUNT   No. Observations:                  156\n",
      "Model:             GeneralizedPoisson   Df Residuals:                      149\n",
      "Method:                           MLE   Df Model:                            6\n",
      "Date:                Sat, 24 Jul 2021   Pseudo R-squ.:                 0.05530\n",
      "Time:                        11:07:36   Log-Likelihood:                -1248.8\n",
      "converged:                       True   LL-Null:                       -1321.9\n",
      "Covariance Type:            nonrobust   LLR p-value:                 4.909e-29\n",
      "===============================================================================\n",
      "                  coef    std err          z      P>|z|      [0.025      0.975]\n",
      "-------------------------------------------------------------------------------\n",
      "Intercept       6.9580      0.180     38.714      0.000       6.606       7.310\n",
      "DAY            -0.0029      0.003     -1.093      0.274      -0.008       0.002\n",
      "DAY_OF_WEEK    -0.0095      0.012     -0.820      0.412      -0.032       0.013\n",
      "MONTH           0.0007      0.012      0.058      0.954      -0.023       0.024\n",
      "HIGH_T          0.0328      0.005      6.170      0.000       0.022       0.043\n",
      "LOW_T          -0.0222      0.006     -3.735      0.000      -0.034      -0.011\n",
      "PRECIP         -0.6131      0.034    -18.028      0.000      -0.680      -0.546\n",
      "alpha           0.0051      0.000     15.639      0.000       0.004       0.006\n",
      "===============================================================================\n"
     ]
    },
    {
     "name": "stderr",
     "output_type": "stream",
     "text": [
      "C:\\Users\\Rajavardhan\\Anaconda3\\lib\\site-packages\\statsmodels\\discrete\\discrete_model.py:1463: RuntimeWarning: invalid value encountered in log\n",
      "  return (np.log(mu) + (endog - 1) * np.log(a2) - endog *\n",
      "C:\\Users\\Rajavardhan\\Anaconda3\\lib\\site-packages\\statsmodels\\discrete\\discrete_model.py:1464: RuntimeWarning: invalid value encountered in log\n",
      "  np.log(a1) - gammaln(endog + 1) - a2 / a1)\n",
      "C:\\Users\\Rajavardhan\\Anaconda3\\lib\\site-packages\\statsmodels\\discrete\\discrete_model.py:1463: RuntimeWarning: invalid value encountered in log\n",
      "  return (np.log(mu) + (endog - 1) * np.log(a2) - endog *\n",
      "C:\\Users\\Rajavardhan\\Anaconda3\\lib\\site-packages\\statsmodels\\discrete\\discrete_model.py:1464: RuntimeWarning: invalid value encountered in log\n",
      "  np.log(a1) - gammaln(endog + 1) - a2 / a1)\n"
     ]
    }
   ],
   "source": [
    "#Build Famoye's Restricted Generalized Poison regression model, know as GP-2\n",
    "gen_poisson_gp2 = sm.GeneralizedPoisson(y_train, X_train, p=2)\n",
    " \n",
    "#Fit the model\n",
    "gen_poisson_gp2_results = gen_poisson_gp2.fit()\n",
    " \n",
    "#print the results\n",
    "print(gen_poisson_gp2_results.summary())"
   ]
  },
  {
   "cell_type": "code",
   "execution_count": null,
   "id": "bda15377",
   "metadata": {},
   "outputs": [],
   "source": []
  }
 ],
 "metadata": {
  "kernelspec": {
   "display_name": "Python 3",
   "language": "python",
   "name": "python3"
  },
  "language_info": {
   "codemirror_mode": {
    "name": "ipython",
    "version": 3
   },
   "file_extension": ".py",
   "mimetype": "text/x-python",
   "name": "python",
   "nbconvert_exporter": "python",
   "pygments_lexer": "ipython3",
   "version": "3.8.8"
  }
 },
 "nbformat": 4,
 "nbformat_minor": 5
}
